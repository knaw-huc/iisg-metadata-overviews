{
 "cells": [
  {
   "cell_type": "markdown",
   "id": "7a75338e",
   "metadata": {},
   "source": [
    "# Jupyter notebook to query the harvested metadata records from the IISG bibliographic materials (authority)"
   ]
  },
  {
   "cell_type": "markdown",
   "id": "99c03f4a",
   "metadata": {},
   "source": [
    "This notebook makes it possible to get overviews and query the metadata records of the International Institute of Social History (IISG) Bibliographic materials (\"Biblio\"). It uses as source the file \"converted.csv\" obtained via metadata harvesting using the scripts in this repository (https://github.com/lilimelgar/iisg-metadata-overviews).  It contains MARC records from the OAIPMH endpoint. \n",
    "The file contains one record per row, and each marc property (field and subfield) is in a column.\n",
    "\n",
    "Note: the data includes only metadata records at the \"item\" level.\n",
    "\n",
    "Created by Liliana Melgar (April, 2024)."
   ]
  },
  {
   "cell_type": "markdown",
   "id": "e7522543",
   "metadata": {},
   "source": [
    "# A. Set up"
   ]
  },
  {
   "cell_type": "markdown",
   "id": "c64cb568",
   "metadata": {},
   "source": [
    "## A1. Import the required python libraries \n",
    "*(nothing to change)*"
   ]
  },
  {
   "cell_type": "code",
   "execution_count": null,
   "id": "344696ad",
   "metadata": {},
   "outputs": [],
   "source": [
    "import pandas as pd\n",
    "import numpy as np\n",
    "import csv\n",
    "import re\n",
    "\n",
    "from IPython.display import display, HTML\n",
    "from IPython.display import clear_output\n",
    "display(HTML(\"<style>.container { width:95% !important; }</style>\"))\n",
    "pd.set_option('display.max_rows', None)\n",
    "pd.set_option('display.max_columns', None)\n",
    "pd.set_option('display.max_colwidth', None)\n",
    "\n",
    "# to add timestamp to file names\n",
    "import time\n",
    "# import os.path to add paths to files\n",
    "import os"
   ]
  },
  {
   "cell_type": "markdown",
   "id": "c81a8db4",
   "metadata": {},
   "source": [
    "## A2. Set the path to the csv file \n",
    "*nothing to change if you cloned the repository. If you downloaded the file only (\"biblio_as_csv.gzip\"), then set here the path to where you have downloaded the file*"
   ]
  },
  {
   "cell_type": "code",
   "execution_count": null,
   "id": "c9b5dfad",
   "metadata": {},
   "outputs": [],
   "source": [
    "# path to where the transformed csv is located\n",
    "data_directory = os.path.abspath(os.path.join('..', 'data'))\n",
    "data_converted = os.path.join(data_directory, 'converted') #path to the repository folder where the csv file is located, if you have not cloned the repository, change the path here\n",
    "data_downloads = os.path.join(data_directory, 'downloads') #path to the folder where the reports will be downloaded"
   ]
  },
  {
   "cell_type": "markdown",
   "id": "1f79da8e",
   "metadata": {},
   "source": [
    "## A3. Read the csv file as a pandas dataframe\n",
    "*nothing to change here, just be patient, IT TAKES LONG TO LOAD (around started at 19.00h and finished sometime before 20:48h same day)*"
   ]
  },
  {
   "cell_type": "code",
   "execution_count": null,
   "id": "bde84496",
   "metadata": {},
   "outputs": [],
   "source": [
    "# read csv as dataframe\n",
    "authority_df_v0 = pd.read_csv(f'{data_converted}/authority_as_csv.gzip', sep=\"\\t\", compression='gzip', low_memory=False)\n",
    "# low_memory=False was set after this warning message: \"/var/folders/3y/xbjxw0b94jxg6x2bcbyjsmmcgvnf7q/T/ipykernel_987/2912965462.py:3: DtypeWarning: Columns (0) have mixed types. Specify dtype option on import or set low_memory=False.\""
   ]
  },
  {
   "cell_type": "markdown",
   "id": "1a3a194d",
   "metadata": {},
   "source": [
    "# B. First overview and data preparation"
   ]
  },
  {
   "cell_type": "markdown",
   "id": "f117ec8a",
   "metadata": {},
   "source": [
    "## B1. First overview: all fields and data types\n",
    "Execute the cell and view the general information of the data, which includes the Columns (marc properties with subfields), the Non-Null Count (i.e., how many cells have values; for example: if a cell says \"1 non-null\" it means that only one row has a value); and the Data type (object (i.e., a string or a combination of data types), a float or an integer).\n",
    "- Keep in mind that the MARC labels have 3 characters, and that the fourth character can be an indicator or a subfield. For example: 1000 is Marc label 100 with indicator 0. And 100a is Marc label 100 with subfield a."
   ]
  },
  {
   "cell_type": "code",
   "execution_count": null,
   "id": "143e8825",
   "metadata": {},
   "outputs": [],
   "source": [
    "authority_df_v0.info(verbose = True, show_counts = True)"
   ]
  },
  {
   "cell_type": "markdown",
   "id": "dfa5f9b0",
   "metadata": {},
   "source": [
    "## B2. Optional (documentation)\n",
    "Ideally, each field above would have a definition explaining what it means and what kind of values does it contain (in relation to the conventions for creating IISG metadata). That documentation can exist somewhere else (e.g., on Confluence), but this could be a place to start updating or writing those definitions since here one can see the data that they contain in detail."
   ]
  },
  {
   "cell_type": "markdown",
   "id": "ef71f685",
   "metadata": {},
   "source": []
  },
  {
   "cell_type": "markdown",
   "id": "6a169b5e",
   "metadata": {},
   "source": [
    "## B3. Prepare the data for search\n",
    "Because we know that the data doesn't have proper numerical values to be computed, we rather convert all values to strings in order to facilitate querying. This also includes filling in empty values with a standard string: \"null\"\n",
    "*(nothing to change here)*"
   ]
  },
  {
   "cell_type": "code",
   "execution_count": null,
   "id": "123c5410",
   "metadata": {},
   "outputs": [],
   "source": [
    "# convert datatypes and fill in empty values\n",
    "df_columns = authority_df_v0.columns\n",
    "for column in df_columns:\n",
    "    dataType = authority_df_v0.dtypes[column]\n",
    "    if dataType == np.float64:\n",
    "        authority_df_v0[column] = authority_df_v0[column].fillna('null')\n",
    "        authority_df_v0[column] = authority_df_v0[column].astype(str)\n",
    "    if dataType == np.int_:\n",
    "        authority_df_v0[column] = authority_df_v0[column].fillna('null')\n",
    "        authority_df_v0[column] = authority_df_v0[column].astype(str)\n",
    "    if dataType == object:\n",
    "        authority_df_v0[column] = authority_df_v0[column].fillna('null')\n",
    "        authority_df_v0[column] = authority_df_v0[column].astype(str)"
   ]
  },
  {
   "cell_type": "code",
   "execution_count": null,
   "id": "3f53c768",
   "metadata": {},
   "outputs": [],
   "source": [
    "# create a copy\n",
    "authority_df = authority_df_v0.copy()"
   ]
  },
  {
   "cell_type": "code",
   "execution_count": null,
   "id": "d7f53993-5721-431d-80a8-e394414e0cc3",
   "metadata": {},
   "outputs": [],
   "source": [
    "# # save the csv (in case one wants to inspect it outside this noteobok). Make sure the \"downloads\" directory exists inside Authority\n",
    "authority_df.to_csv(f'{data_downloads}/authority_all.csv.gz', index=False, compression='gzip')"
   ]
  },
  {
   "cell_type": "code",
   "execution_count": null,
   "id": "8e92de00",
   "metadata": {},
   "outputs": [],
   "source": [
    "# Check again the general information of the data after having filled in the emtpy values and converted the data types\n",
    "authority_df.info(verbose = True, show_counts = True)"
   ]
  },
  {
   "cell_type": "markdown",
   "id": "010f8e0b",
   "metadata": {},
   "source": [
    "# C. Get a glimpse of the data"
   ]
  },
  {
   "cell_type": "markdown",
   "id": "2a598cdf",
   "metadata": {},
   "source": [
    "## C1. First rows\n",
    "Here you can see a sample of the records, one per line. You can change the value \"10\" to any other desired size for your sample, preferably not too big. You can also use \"tail\" instead of \"head\" to see the records in the last rows.\n",
    "- Keep in mind to scroll horizontally and vertically to see the entire record.\n",
    "- NaN means that the cell is empty.\n",
    "- Arbitrarily, some cells above, we decided that the omega \"Ω\" would be the separator for multi-value cells."
   ]
  },
  {
   "cell_type": "code",
   "execution_count": null,
   "id": "0638495f",
   "metadata": {
    "scrolled": true
   },
   "outputs": [],
   "source": [
    "authority_df.head(10)"
   ]
  },
  {
   "cell_type": "markdown",
   "id": "42fe52e6",
   "metadata": {},
   "source": [
    "## C2. Size (shape) of the data\n",
    "Here you can see how many rows (first value) and how many columns (second value) are in the data."
   ]
  },
  {
   "cell_type": "code",
   "execution_count": null,
   "id": "1095c9a7",
   "metadata": {},
   "outputs": [],
   "source": [
    "authority_df.shape"
   ]
  },
  {
   "cell_type": "markdown",
   "id": "3821f442",
   "metadata": {},
   "source": [
    "## C3. Unique values\n",
    "Here you can see a general description of the data, including how many unique values are per column."
   ]
  },
  {
   "cell_type": "code",
   "execution_count": null,
   "id": "956b95bb",
   "metadata": {},
   "outputs": [],
   "source": [
    "# describe the dataframe\n",
    "authority_df.describe()"
   ]
  },
  {
   "cell_type": "code",
   "execution_count": null,
   "id": "573d3f12-9b56-4ced-b405-9da6fa1fd101",
   "metadata": {},
   "outputs": [],
   "source": [
    "# Test\n",
    "authority_df.head(5)"
   ]
  },
  {
   "cell_type": "markdown",
   "id": "a38a3cbd",
   "metadata": {},
   "source": [
    "# D. Inspect one record\n",
    "This is a test, to see if the data is retrieved correctly for one record, pick up any TCN from the list above"
   ]
  },
  {
   "cell_type": "code",
   "execution_count": null,
   "id": "49ebd07a-e37e-4d93-a6d0-a77458c73d52",
   "metadata": {},
   "outputs": [],
   "source": [
    "# TEST (see one record)\n",
    "# check if a string value exists in a column (the string is exactly the same)\n",
    "# test_exact = biblio_df[biblio_df['651a'] == '1362253']\n",
    "# test_exact = authority_df[authority_df['151a'] == 'Srebrenica (Yugoslavia)']\n",
    "test_exact = authority_df[authority_df['001'] == '336278']\n",
    "test_exact"
   ]
  },
  {
   "cell_type": "code",
   "execution_count": null,
   "id": "6669c672-b946-4f57-baf4-f347369ea87f",
   "metadata": {},
   "outputs": [],
   "source": [
    "# # You may want to dowload the table above to an excel file for further inspection:\n",
    "\n",
    "# # choose any name for your file, the file will go to the ../data/downloads folder.\n",
    "# name_file = 'authority_151a_Srebrenica'\n",
    "\n",
    "# test_exact.to_excel(f'{data_downloads}/{name_file}.xlsx')"
   ]
  },
  {
   "cell_type": "code",
   "execution_count": null,
   "id": "2b7b93ea",
   "metadata": {},
   "outputs": [],
   "source": [
    "# biblio_df['100a'].unique().tolist()"
   ]
  },
  {
   "cell_type": "markdown",
   "id": "25de1c14",
   "metadata": {},
   "source": [
    "## D1. Create a subset with certain column(s)/field(s)\n",
    "At this point you may be curious to know which values are in one column. For example, 040a has 7 unique values, which are those?\n",
    "- You can change the field inside the quotation marcs for any other field of interest."
   ]
  },
  {
   "cell_type": "code",
   "execution_count": null,
   "id": "2635be4a",
   "metadata": {},
   "outputs": [],
   "source": [
    "# create subset with record Id and record of interest, here enter the name of the field(s) that you are interested in separated by commas, each field has to be within single quotation marks, e.g., biblio_df[['001','100e', '110e']]\n",
    "# field_subset_df = biblio_df[['001','090a','901a','245a','245b','260a','852p','852j','866a','902a','leader']] #--> For LA periodicals\n",
    "field_subset_df = authority_df[['001', '040a','leader']] #--> For geographic terms exploration\n",
    "# field_subset_df"
   ]
  },
  {
   "cell_type": "code",
   "execution_count": null,
   "id": "8697c36a",
   "metadata": {},
   "outputs": [],
   "source": [
    "# check again the number of unique values in your subset\n",
    "field_subset_df.describe()"
   ]
  },
  {
   "cell_type": "code",
   "execution_count": null,
   "id": "95724e69-1ea9-4af1-893d-f2f9d5ac6936",
   "metadata": {},
   "outputs": [],
   "source": [
    "field_subset_df['040a'].unique().tolist()"
   ]
  },
  {
   "cell_type": "code",
   "execution_count": null,
   "id": "77b44dab-d1e4-4e4a-8e9c-a37fbd83460f",
   "metadata": {},
   "outputs": [],
   "source": [
    "#  At this point you may wonder which record has one of the values observed\n",
    "query_value_aprox = field_subset_df[field_subset_df['040a'].str.contains(\"IISGΩIISGΩIISGΩIISG\", case=False, regex=True)]\n",
    "query_value_aprox"
   ]
  },
  {
   "cell_type": "code",
   "execution_count": null,
   "id": "6fd8dac2",
   "metadata": {},
   "outputs": [],
   "source": [
    "# You may want to dowload the table above to an excel file for further inspection:\n",
    "\n",
    "# choose any name for your file, the file will go to the ../data/downloads folder.\n",
    "# name_file = 'biblio_author_person_field_100a' #--> authors test\n",
    "name_file = 'biblio_geo_651a' #--> geoterms\n",
    "\n",
    "# field_subset_df.to_excel(f'{data_downloads}/{name_file}.xlsx')\n",
    "\n",
    "## or download to csv\n",
    "field_subset_df.to_csv(f'{data_downloads}/{name_file}.csv', index=False) # if too big, use compression='gzip'"
   ]
  },
  {
   "cell_type": "markdown",
   "id": "e91e9ed3",
   "metadata": {},
   "source": [
    "## D2. Create a subset of records with a certain value in a given column\n",
    "You may also want to create a list of the records with a certain value in a given column, for example, for field 100e you got these unique values: ['creator.', 'null', 'creator']. You may want to get only the list of records that have \"creator.\""
   ]
  },
  {
   "cell_type": "code",
   "execution_count": null,
   "id": "a9c9734d-54a8-4be2-adda-3318dda7030d",
   "metadata": {},
   "outputs": [],
   "source": [
    "# when the file above is too big, it's useful sometimes to download it and upload it here again\n",
    "path = '/Users/lilianam/workspace/iisg-metadata-overviews/biblio/data'\n",
    "field_subset_df = pd.read_csv(f'{path}/biblio_titles.csv.gz', sep=\",\", compression='gzip', low_memory=False)"
   ]
  },
  {
   "cell_type": "code",
   "execution_count": null,
   "id": "2a9dfba0-00aa-4fec-9026-db8424737f76",
   "metadata": {},
   "outputs": [],
   "source": [
    "field_subset_df.head(5)"
   ]
  },
  {
   "cell_type": "code",
   "execution_count": null,
   "id": "dd9534ff",
   "metadata": {},
   "outputs": [],
   "source": [
    "# check if a string value exists in a column (the string is exactly the same)\n",
    "query_value_exact = field_subset_df[field_subset_df['100a'] == 'Hajnal, Henri.']\n",
    "query_value_exact"
   ]
  },
  {
   "cell_type": "code",
   "execution_count": null,
   "id": "f8edfcf6",
   "metadata": {},
   "outputs": [],
   "source": [
    "# check if a string value exists in a column (the string is approximately the same)\n",
    "# you may want to find the records that have either \"creator.\" (with dot) or \"creator\" without dot, but not the null values\n",
    "# here it's possible to use regular expressions\n",
    "\n",
    "query_value_aprox = field_subset_df[field_subset_df['852j'].str.contains(\"ZDF|ZF|ZDK|ZO|XZK|ZDO|ZK\", case=True, regex=True)]"
   ]
  },
  {
   "cell_type": "code",
   "execution_count": null,
   "id": "eb7f7dd8-521f-4bcc-bc3f-085f6b1b89c6",
   "metadata": {},
   "outputs": [],
   "source": [
    "query_value_aprox.head(5)"
   ]
  },
  {
   "cell_type": "code",
   "execution_count": null,
   "id": "c82c0f95",
   "metadata": {},
   "outputs": [],
   "source": [
    "# get some idea of how many rows are in this set\n",
    "query_value_aprox.info(verbose = True, show_counts = True)"
   ]
  },
  {
   "cell_type": "code",
   "execution_count": null,
   "id": "3b4bfb65",
   "metadata": {},
   "outputs": [],
   "source": [
    "# check again the number of unique values in your subset\n",
    "query_value_aprox.describe()"
   ]
  },
  {
   "cell_type": "code",
   "execution_count": null,
   "id": "dd43026b",
   "metadata": {},
   "outputs": [],
   "source": [
    "# You may want to dowload the table above to an excel file for further inspection:\n",
    "\n",
    "# choose any name for your file, the file will go to the ../data/downloads folder.\n",
    "# name_file = 'biblio_author_person_field_100a_henri'\n",
    "name_file = 'biblio_to_map_la_periodicals_852j'\n",
    "\n",
    "query_value_aprox.to_excel(f'{data_downloads}/{name_file}.xlsx')\n",
    "\n",
    "## or download to csv\n",
    "# query_value_aprox.to_csv()"
   ]
  },
  {
   "cell_type": "markdown",
   "id": "c5c72f9d",
   "metadata": {},
   "source": [
    "# E. Create subsets using inverse query\n",
    "You may need to create a report with all the records that do not contain a certain value. For example, because we used \"null\" to fill in all empty values, one could create a list with all the records that have a value in a certain column."
   ]
  },
  {
   "cell_type": "code",
   "execution_count": null,
   "id": "e9da9185",
   "metadata": {},
   "outputs": [],
   "source": [
    "# create a slice with the records that have non-null values in the column of interest\n",
    "# Note: if you want to query the subset instead of the whole data, then replace \"biblio_df\" with \"field_subset_df\" and run the cell again\n",
    "\n",
    "query_inverse = biblio_df[~biblio_df['100a'].str.contains(\"null\", case=False, regex=True)]\n",
    "\n",
    "query_inverse.head(10)"
   ]
  },
  {
   "cell_type": "code",
   "execution_count": null,
   "id": "0a2042fd",
   "metadata": {},
   "outputs": [],
   "source": [
    "# get some info about the subset you got as a result of the query:\n",
    "query_inverse.info(verbose=True, show_counts = True)"
   ]
  },
  {
   "cell_type": "code",
   "execution_count": null,
   "id": "d45d1b1a",
   "metadata": {},
   "outputs": [],
   "source": [
    "# You may want to dowload the table above to an excel file for further inspection:\n",
    "\n",
    "# choose any name for your file, the file will go to the ../data/downloads folder.\n",
    "name_file = 'biblio_author_person_field_100a_notEmpty'\n",
    "\n",
    "query_inverse.to_excel(f'{data_downloads}/{name_file}.xlsx')\n",
    "\n",
    "## or download to csv\n",
    "# query_inverse.to_csv()"
   ]
  },
  {
   "cell_type": "markdown",
   "id": "236d2b27",
   "metadata": {},
   "source": [
    "# F. Query for a specific record\n",
    "You may want to see the details of a specific record, this can be done in two ways:"
   ]
  },
  {
   "cell_type": "code",
   "execution_count": null,
   "id": "cb773390",
   "metadata": {},
   "outputs": [],
   "source": [
    "# 1. by using the index position. Example: This item: ToDo has index position 0. \n",
    "# This position can be seen in the left corner of the entire table (cell above in Section5: biblio_df.head(10))\n",
    "# We will query it using the entire version of the data, not the subset\n",
    "\n",
    "# show record vertically using index position\n",
    "query_recordIndex = biblio_df.iloc[0]\n",
    "query_recordIndex"
   ]
  },
  {
   "cell_type": "code",
   "execution_count": null,
   "id": "c000399c",
   "metadata": {},
   "outputs": [],
   "source": [
    "# 2. By using the record Id using the Marc field 001\n",
    "query_recordId = biblio_df[biblio_df['001'] == '8']\n",
    "query_recordId"
   ]
  }
 ],
 "metadata": {
  "kernelspec": {
   "display_name": "Python 3 (ipykernel)",
   "language": "python",
   "name": "python3"
  },
  "language_info": {
   "codemirror_mode": {
    "name": "ipython",
    "version": 3
   },
   "file_extension": ".py",
   "mimetype": "text/x-python",
   "name": "python",
   "nbconvert_exporter": "python",
   "pygments_lexer": "ipython3",
   "version": "3.11.7"
  },
  "toc": {
   "base_numbering": 1,
   "nav_menu": {},
   "number_sections": true,
   "sideBar": true,
   "skip_h1_title": false,
   "title_cell": "Table of Contents",
   "title_sidebar": "Contents",
   "toc_cell": false,
   "toc_position": {},
   "toc_section_display": true,
   "toc_window_display": false
  }
 },
 "nbformat": 4,
 "nbformat_minor": 5
}
