{
 "cells": [
  {
   "cell_type": "markdown",
   "id": "7a75338e",
   "metadata": {},
   "source": [
    "# INTRODUCTION\n",
    "\n",
    "Jupyter notebook to query the harvested metadata records from the IISG bibliographic materials (authority)"
   ]
  },
  {
   "cell_type": "markdown",
   "id": "99c03f4a",
   "metadata": {},
   "source": [
    "This notebook makes it possible to get overviews and query the metadata records of the International Institute of Social History (IISG) Bibliographic materials (\"Biblio\"). It uses as source the file \"converted.csv\" obtained via metadata harvesting using the scripts in this repository (https://github.com/lilimelgar/iisg-metadata-overviews).  It contains MARC records from the OAIPMH endpoint. \n",
    "The file contains one record per row, and each marc property (field and subfield) is in a column.\n",
    "\n",
    "Note: the data includes only metadata records at the \"item\" level.\n",
    "\n",
    "Created by Liliana Melgar (April, 2024)."
   ]
  },
  {
   "cell_type": "markdown",
   "id": "e7522543",
   "metadata": {},
   "source": [
    "# A. Set up"
   ]
  },
  {
   "cell_type": "markdown",
   "id": "c64cb568",
   "metadata": {},
   "source": [
    "## Import the required python libraries \n",
    "*(nothing to change)*"
   ]
  },
  {
   "cell_type": "code",
   "execution_count": null,
   "id": "344696ad",
   "metadata": {},
   "outputs": [],
   "source": [
    "import pandas as pd\n",
    "import numpy as np\n",
    "import csv\n",
    "import re\n",
    "\n",
    "from IPython.display import display, HTML\n",
    "from IPython.display import clear_output\n",
    "display(HTML(\"<style>.container { width:95% !important; }</style>\"))\n",
    "pd.set_option('display.max_rows', None)\n",
    "pd.set_option('display.max_columns', None)\n",
    "pd.set_option('display.max_colwidth', None)\n",
    "\n",
    "# to add timestamp to file names\n",
    "import time\n",
    "# import os.path to add paths to files\n",
    "import os"
   ]
  },
  {
   "cell_type": "markdown",
   "id": "c81a8db4",
   "metadata": {},
   "source": [
    "## Set the path to the csv file \n",
    "*nothing to change if you cloned the repository. If you downloaded the file only (\"biblio_as_csv.gzip\"), then set here the path to where you have downloaded the file*"
   ]
  },
  {
   "cell_type": "code",
   "execution_count": null,
   "id": "c9b5dfad",
   "metadata": {},
   "outputs": [],
   "source": [
    "# path to where the relevant data is located\n",
    "# authority\n",
    "script_dir = os.getcwd()  # Gets the current working directory\n",
    "project_root = os.path.abspath(os.path.join(script_dir, \"..\", \"..\"))  # Moves up two levels to reach 'repo'\n",
    "data_directory_authority = os.path.join(project_root, \"data\", \"authority\")\n",
    "data_converted_authority = os.path.join(data_directory_authority, 'converted')\n",
    "data_downloads_authority = os.path.join(data_directory_authority, 'downloads') #path to the folder where the reports will be downloaded"
   ]
  },
  {
   "cell_type": "markdown",
   "id": "1f79da8e",
   "metadata": {},
   "source": [
    "## Read the csv file as a pandas dataframe\n",
    "*nothing to change here, just be patient, IT TAKES LONG TO LOAD (around started at 19.00h and finished sometime before 20:48h same day)*"
   ]
  },
  {
   "cell_type": "code",
   "execution_count": null,
   "id": "bde84496",
   "metadata": {},
   "outputs": [],
   "source": [
    "# read csv as dataframe\n",
    "authority_df_v0 = pd.read_csv(f'{data_converted_authority}/authority_as_csv_per_field.gzip', sep=\"\\t\", compression='gzip', low_memory=False)\n",
    "# low_memory=False was set after this warning message: \"/var/folders/3y/xbjxw0b94jxg6x2bcbyjsmmcgvnf7q/T/ipykernel_987/2912965462.py:3: DtypeWarning: Columns (0) have mixed types. Specify dtype option on import or set low_memory=False.\""
   ]
  },
  {
   "cell_type": "markdown",
   "id": "f117ec8a",
   "metadata": {},
   "source": [
    "## Inspect if import was correct\n",
    "Execute the cell and view the general information of the data, which includes the Columns (marc properties with subfields), the Non-Null Count (i.e., how many cells have values; for example: if a cell says \"1 non-null\" it means that only one row has a value); and the Data type (object (i.e., a string or a combination of data types), a float or an integer).\n",
    "\n",
    "- Keep in mind that the MARC labels have 3 characters, and that the fourth character can be an indicator or a subfield. For example: 1000 is Marc label 100 with indicator 0. And 100a is Marc label 100 with subfield a."
   ]
  },
  {
   "cell_type": "code",
   "execution_count": null,
   "id": "143e8825",
   "metadata": {},
   "outputs": [],
   "source": [
    "authority_df_v0.info(verbose = True, show_counts = True)"
   ]
  },
  {
   "cell_type": "markdown",
   "id": "dfa5f9b0",
   "metadata": {},
   "source": [
    "## Columns (documentation)\n",
    "Ideally, each field above would have a definition explaining what it means and what kind of values does it contain (in relation to the conventions for creating IISG metadata). That documentation can exist somewhere else (e.g., on Confluence), but this could be a place to start updating or writing those definitions since here one can see the data that they contain in detail.\n",
    "\n",
    "For now, we can consult the MARC21 documentation which explains what each field label means for Authorities: https://www.loc.gov/marc/authority/"
   ]
  },
  {
   "cell_type": "markdown",
   "id": "ef71f685",
   "metadata": {},
   "source": []
  },
  {
   "cell_type": "markdown",
   "id": "6a169b5e",
   "metadata": {},
   "source": [
    "## Prepare the data for search\n",
    "Because we know that the data doesn't have proper numerical values to be computed, we rather convert all values to strings in order to facilitate querying. This also includes filling in empty values with a standard string: \"null\"\n",
    "*(nothing to change here)*"
   ]
  },
  {
   "cell_type": "code",
   "execution_count": null,
   "id": "123c5410",
   "metadata": {},
   "outputs": [],
   "source": [
    "# convert datatypes and fill in empty values\n",
    "df_columns = authority_df_v0.columns\n",
    "for column in df_columns:\n",
    "    dataType = authority_df_v0.dtypes[column]\n",
    "    if dataType == np.float64:\n",
    "        authority_df_v0[column] = authority_df_v0[column].fillna('null')\n",
    "        authority_df_v0[column] = authority_df_v0[column].astype(str)\n",
    "    if dataType == np.int_:\n",
    "        authority_df_v0[column] = authority_df_v0[column].fillna('null')\n",
    "        authority_df_v0[column] = authority_df_v0[column].astype(str)\n",
    "    if dataType == object:\n",
    "        authority_df_v0[column] = authority_df_v0[column].fillna('null')\n",
    "        authority_df_v0[column] = authority_df_v0[column].astype(str)"
   ]
  },
  {
   "cell_type": "code",
   "execution_count": null,
   "id": "3f53c768",
   "metadata": {},
   "outputs": [],
   "source": [
    "# create a copy\n",
    "authority_df = authority_df_v0.copy()"
   ]
  },
  {
   "cell_type": "code",
   "execution_count": null,
   "id": "d7f53993-5721-431d-80a8-e394414e0cc3",
   "metadata": {},
   "outputs": [],
   "source": [
    "# # # save the csv (in case one wants to inspect it outside this noteobok). Make sure the \"downloads\" directory exists inside Authority\n",
    "# authority_df.to_csv(f'{data_downloads}/authority_all.csv.gz', index=False, compression='gzip')"
   ]
  },
  {
   "cell_type": "code",
   "execution_count": null,
   "id": "8e92de00",
   "metadata": {},
   "outputs": [],
   "source": [
    "# Check again the general information of the data after having filled in the emtpy values and converted the data types\n",
    "authority_df.info(verbose = True, show_counts = True)"
   ]
  },
  {
   "cell_type": "markdown",
   "id": "010f8e0b",
   "metadata": {},
   "source": [
    "# Get a glimpse of the data"
   ]
  },
  {
   "cell_type": "markdown",
   "id": "2a598cdf",
   "metadata": {},
   "source": [
    "## First rows\n",
    "Here you can see a sample of the records, one per line. You can change the value \"10\" to any other desired size for your sample, preferably not too big. You can also use \"tail\" instead of \"head\" to see the records in the last rows.\n",
    "- Keep in mind to scroll horizontally and vertically to see the entire record.\n",
    "- NaN means that the cell is empty.\n",
    "- Arbitrarily, some cells above, we decided that the omega \"Ω\" would be the separator for multi-value cells."
   ]
  },
  {
   "cell_type": "code",
   "execution_count": null,
   "id": "0638495f",
   "metadata": {
    "scrolled": true
   },
   "outputs": [],
   "source": [
    "authority_df.head(20)"
   ]
  },
  {
   "cell_type": "markdown",
   "id": "42fe52e6",
   "metadata": {},
   "source": [
    "## Size (shape) of the data\n",
    "Here you can see how many rows (first value) and how many columns (second value) are in the data."
   ]
  },
  {
   "cell_type": "code",
   "execution_count": null,
   "id": "1095c9a7",
   "metadata": {},
   "outputs": [],
   "source": [
    "authority_df.shape"
   ]
  },
  {
   "cell_type": "markdown",
   "id": "3821f442",
   "metadata": {},
   "source": [
    "## Unique values\n",
    "Here you can see a general description of the data, including how many unique values are per column."
   ]
  },
  {
   "cell_type": "code",
   "execution_count": null,
   "id": "956b95bb",
   "metadata": {},
   "outputs": [],
   "source": [
    "# describe the dataframe\n",
    "authority_df.describe()"
   ]
  },
  {
   "cell_type": "markdown",
   "id": "7b4558ba-1aa9-46f6-9dfe-6e68b2510631",
   "metadata": {},
   "source": [
    "## Check the values in one column (marc property)\n",
    "At this point you may be curious to know which values are in one column. It may be interesting to observe those that have very few unique values, because they can contain wrong data or wrong columns.\n",
    "- You can change the field inside the quotation marcs for any other field of interest."
   ]
  },
  {
   "cell_type": "code",
   "execution_count": null,
   "id": "b9cb20d6-1eac-43df-94a3-4d6a48d42708",
   "metadata": {},
   "outputs": [],
   "source": [
    "# authority_df['4J0'].unique().tolist()\n",
    "authority_df['550'].unique().tolist()"
   ]
  },
  {
   "cell_type": "markdown",
   "id": "f2503129-8ec4-4dee-93f8-adf601cd3bbb",
   "metadata": {},
   "source": [
    "If you want to see which record contains those values or wrong columns, you can use:"
   ]
  },
  {
   "cell_type": "code",
   "execution_count": null,
   "id": "8c3e7113-848c-43bb-acdc-f8814671d20f",
   "metadata": {},
   "outputs": [],
   "source": [
    "# check records with non-empty values in a specific column\n",
    "# check_problem1 = authority_df[~authority_df['4J0'].str.contains(\"null\", case=False, regex=True)]\n",
    "check_problem1 = authority_df[authority_df['150'].str.contains('strikes', case=False, regex=True)]\n",
    "check_problem1.head(10)"
   ]
  },
  {
   "cell_type": "markdown",
   "id": "a38a3cbd",
   "metadata": {},
   "source": [
    "## Inspect one record\n",
    "If you are interested to see only one record, you can do so by using the recordId (TCN in 001)"
   ]
  },
  {
   "cell_type": "code",
   "execution_count": null,
   "id": "49ebd07a-e37e-4d93-a6d0-a77458c73d52",
   "metadata": {},
   "outputs": [],
   "source": [
    "# TEST (see one record)\n",
    "# check if a string value exists in a column (the string is exactly the same)\n",
    "# test_exact = biblio_df[biblio_df['651a'] == '1362253']\n",
    "# test_exact = authority_df[authority_df['151a'] == 'Srebrenica (Yugoslavia)']\n",
    "# test_exact = authority_df[authority_df['001'] == '239940'] #strikes\n",
    "\n",
    "check_tcn = '122383'\n",
    "check_record = authority_df[authority_df['001'] == check_tcn] #persons (Emma Goldman)\n",
    "check_record"
   ]
  },
  {
   "cell_type": "code",
   "execution_count": null,
   "id": "f2457a17-d20e-4324-9925-3797ad416b35",
   "metadata": {},
   "outputs": [],
   "source": [
    "check_record.shape"
   ]
  },
  {
   "cell_type": "code",
   "execution_count": null,
   "id": "6669c672-b946-4f57-baf4-f347369ea87f",
   "metadata": {},
   "outputs": [],
   "source": [
    "# # You may want to dowload the table above to an excel file for further inspection:\n",
    "\n",
    "# # choose any name for your file, the file will go to the ../data/downloads folder.\n",
    "# name_file = 'authority_151a_Srebrenica'\n",
    "\n",
    "# test_exact.to_excel(f'{data_downloads}/{name_file}.xlsx')"
   ]
  },
  {
   "cell_type": "markdown",
   "id": "25de1c14",
   "metadata": {},
   "source": [
    "# Create a slice/subset with certain column(s)/field(s)\n",
    "At this point you may be curious to know which values are in one column. For example, 040a has 7 unique values, which are those?\n",
    "- You can change the field inside the quotation marcs for any other field of interest."
   ]
  },
  {
   "cell_type": "markdown",
   "id": "d4734f4a-8e14-4a2b-a866-6bacdf2b2e47",
   "metadata": {},
   "source": [
    "## Test first"
   ]
  },
  {
   "cell_type": "code",
   "execution_count": null,
   "id": "cfb84201-d422-4bd0-a736-a3affee9a8ac",
   "metadata": {},
   "outputs": [],
   "source": [
    "test1 = authority_df[['001','150']]\n",
    "test1.info(verbose=True)"
   ]
  },
  {
   "cell_type": "code",
   "execution_count": null,
   "id": "9de5aeda-b60a-426e-bc24-101b174d1325",
   "metadata": {},
   "outputs": [],
   "source": [
    "test2 = test1[~test1['150'].str.contains(\"null\", case=False, regex=True)]\n",
    "test2.head(10)"
   ]
  },
  {
   "cell_type": "code",
   "execution_count": null,
   "id": "138f0103-1221-4203-b64e-92cc743f8b64",
   "metadata": {},
   "outputs": [],
   "source": [
    "test2.shape"
   ]
  },
  {
   "cell_type": "markdown",
   "id": "7defb127-a46a-456b-9d6d-b7dc1bf0657b",
   "metadata": {},
   "source": [
    "## Divide the main df into two dfs (emtpy/non-empty)"
   ]
  },
  {
   "cell_type": "code",
   "execution_count": null,
   "id": "2635be4a",
   "metadata": {},
   "outputs": [],
   "source": [
    "# create subset with record Id and record of interest, here enter the name of the field(s) that you are interested in separated by commas, each field has to be within single quotation marks, e.g., biblio_df[['001','100e', '110e']]\n",
    "# field_subset_df = biblio_df[['001','090a','901a','245a','245b','260a','852p','852j','866a','902a','leader']] #--> For LA periodicals\n",
    "# field_subset_df = authority_df[['001','150a','151a','155a','leader']] #--> For geographic terms exploration\n",
    "field_subset_df_v0 = authority_df[['001','150','450','550','leader']] #--> For subject thesaurus\n",
    "# field_subset_df_v0 = authority_df[['001','035','100']] #--> For person names\n",
    "\n",
    "# one dataframe for rows with values\n",
    "field_subset_df_v1 = field_subset_df_v0[field_subset_df_v0['150'].str.lower() != 'null'] #to exclude empty values\n",
    "# one dataframe for empty rows\n",
    "field_subset_df_vb = field_subset_df_v0[field_subset_df_v0['150'].str.lower() == 'null'] #to exclude empty values (not used in this case)\n",
    "\n",
    "# field_subset_df"
   ]
  },
  {
   "cell_type": "code",
   "execution_count": null,
   "id": "6279ed58-593e-4dad-9800-834abcf2646d",
   "metadata": {},
   "outputs": [],
   "source": [
    "# # field_subset_df.info(verbose=True)\n",
    "# field_subset_df.describe()\n",
    "# field_subset_df_vb.head()"
   ]
  },
  {
   "cell_type": "code",
   "execution_count": null,
   "id": "a5c18748-d6fb-4a2e-b5fb-2f4222d05351",
   "metadata": {},
   "outputs": [],
   "source": [
    "field_subset_df_v2 = field_subset_df_v1.reset_index(drop=True)"
   ]
  },
  {
   "cell_type": "code",
   "execution_count": null,
   "id": "f07b435e-cfb0-4a09-831c-13ba7add0e93",
   "metadata": {},
   "outputs": [],
   "source": [
    "field_subset_df_v2.head(10)"
   ]
  },
  {
   "cell_type": "code",
   "execution_count": null,
   "id": "a4faecb4-f3e2-48ed-95c6-1746c25bb204",
   "metadata": {},
   "outputs": [],
   "source": [
    "field_subset_df_v2.tail()"
   ]
  },
  {
   "cell_type": "code",
   "execution_count": null,
   "id": "8697c36a",
   "metadata": {},
   "outputs": [],
   "source": [
    "# check again the number of unique values in your subset\n",
    "field_subset_df_v2.describe()"
   ]
  },
  {
   "cell_type": "markdown",
   "id": "244bc443-4fca-4c81-9899-293191712e19",
   "metadata": {},
   "source": [
    "## Prepare non-empty subset \n",
    "to have one value per row and one subfield per column"
   ]
  },
  {
   "cell_type": "markdown",
   "id": "83b69fb8-8e11-428c-888b-1b3a1f68d4bc",
   "metadata": {},
   "source": [
    "### Check separator"
   ]
  },
  {
   "cell_type": "code",
   "execution_count": null,
   "id": "b74b11a9-03d1-4a3b-b7ae-6de308434062",
   "metadata": {},
   "outputs": [],
   "source": [
    "# # Get the longest cell (to get the most problematic as example)\n",
    "# # Convert all cells to string and get their lengths\n",
    "# lengths = field_subset_df_v2.astype(str).map(len)\n",
    "\n",
    "# # Find position (row, col) of the max length\n",
    "# max_row, max_col = lengths.stack().idxmax()\n",
    "\n",
    "# # Get the value from the original DataFrame\n",
    "# longest_cell = field_subset_df_v2.loc[max_row, max_col]\n",
    "\n",
    "# print(f\"Longest cell is in row {max_row}, column '{max_col}' with length {len(str(longest_cell))}\")\n",
    "# print(\"Value:\", longest_cell)"
   ]
  },
  {
   "cell_type": "code",
   "execution_count": null,
   "id": "41c653e4-2e76-4855-bd6a-961b24b2a697",
   "metadata": {},
   "outputs": [],
   "source": [
    "\n",
    "# Get the cell where the separator occurs most frequently (to get the most problematic as example)\n",
    "char = '¶'\n",
    "\n",
    "# Count how many times 'e' appears in each cell (as string)\n",
    "char_counts = field_subset_df_v2.astype(str).map(lambda x: x.count(char))\n",
    "\n",
    "# Find the position of the max count\n",
    "max_row, max_col = char_counts.stack().idxmax()\n",
    "\n",
    "# Get the value from the original DataFrame\n",
    "cell_value = field_subset_df_v2.loc[max_row, max_col]\n",
    "count = char_counts.loc[max_row, max_col]\n",
    "\n",
    "print(f\"The character '{char}' appears most in row {max_row}, column '{max_col}' ({count} times)\")\n",
    "print(\"Cell content:\", cell_value)"
   ]
  },
  {
   "cell_type": "code",
   "execution_count": null,
   "id": "b1b045cc-5c2c-4603-b0a2-f73726836dde",
   "metadata": {},
   "outputs": [],
   "source": [
    "# get that record Id using row index number\n",
    "field_subset_df_v2.iloc[208]"
   ]
  },
  {
   "cell_type": "code",
   "execution_count": null,
   "id": "a9439735-2d9d-4169-87dd-ea5f4345f701",
   "metadata": {},
   "outputs": [],
   "source": [
    "# Check the record with the longest value using the TCN (001)\n",
    "# query_value_aprox = field_subset_df_v2[field_subset_df_v2['001'] == '1080191'].copy()\n",
    "# query_value_aprox\n",
    "# test_exact4 = field_subset_df_v2[field_subset_df_v2['001'] == '1466360'] \n",
    "\n",
    "test_exact4 = field_subset_df_v2[field_subset_df_v2['001'] == '177089']\n",
    "test_exact4"
   ]
  },
  {
   "cell_type": "markdown",
   "id": "378f3b67-bb6b-472c-a4c7-7d6a9db27b5c",
   "metadata": {},
   "source": [
    "### Split multi-valued cells"
   ]
  },
  {
   "cell_type": "code",
   "execution_count": null,
   "id": "b63d4591-63a3-4859-a1b2-f9f36d343251",
   "metadata": {},
   "outputs": [],
   "source": [
    "# Split into different rows (e.g., explode)\n",
    "\n",
    "# Step 1: Split the column using \"Ω\" as the separator\n",
    "field_subset_df_v2[\"150\"] = field_subset_df_v2[\"150\"].str.split(\"¶\")\n",
    "\n",
    "# Step 2: Explode the list into multiple rows\n",
    "field_subset_df_v2 = field_subset_df_v2.explode(\"150\", ignore_index=True)\n",
    "\n",
    "field_subset_df_v2.head(10)\n"
   ]
  },
  {
   "cell_type": "code",
   "execution_count": null,
   "id": "ac07a4f3-eecd-4238-bf65-6b155159f3db",
   "metadata": {},
   "outputs": [],
   "source": [
    "# To test if the record is split correctly\n",
    "test_exact5 = field_subset_df_v2[field_subset_df_v2['001'] == '177089']\n",
    "test_exact5"
   ]
  },
  {
   "cell_type": "code",
   "execution_count": null,
   "id": "961f34bf-bbc7-490f-adc0-9cf68c568f52",
   "metadata": {},
   "outputs": [],
   "source": [
    "# check the shape, this should be bigger than the number of records\n",
    "field_subset_df_v2.shape"
   ]
  },
  {
   "cell_type": "code",
   "execution_count": null,
   "id": "aaa15020-9d9a-4862-a739-c8029704b26b",
   "metadata": {},
   "outputs": [],
   "source": [
    "field_subset_df_v3 = field_subset_df_v2.reset_index(drop=True)"
   ]
  },
  {
   "cell_type": "markdown",
   "id": "32abfb8c-6002-4a1f-bbec-2457720b1a9e",
   "metadata": {},
   "source": [
    "### Split columns per subfield\n",
    "This will make that every subfield goes to its own column, the separator between the subfield label and the value should be checked carefully, I used before \":\" but this caused problems since some values have \":\" in them, thus, now I use also the quotation mark '\":'"
   ]
  },
  {
   "cell_type": "code",
   "execution_count": null,
   "id": "6e2684c8-6675-4e39-a372-501e15958959",
   "metadata": {},
   "outputs": [],
   "source": [
    "# THESE LINES WILL CONVERT FROM THIS FORMAT IN \"DATA\" to a format in which each subfield is in a separate column \n",
    "# with the column name equal to the subfield name, filling in with null the cells where the subfield doesn't exist\n",
    "# data = {\n",
    "#     \"id\": [\"001\", \"002\", \"003\", \"004\"],\n",
    "#     \"values\": ['\"a\":lore;\"b\":ipsum', \n",
    "#                '\"x\":nomine;\"a\":ipsum', \n",
    "#                '\"x\":example;\"c\":dei',\n",
    "#                '\"b\":test;\"y\":test2']\n",
    "# }\n",
    "##########################\n",
    "\n",
    "# # FOR PERSONS (100)\n",
    "# # Parse values into a dictionary-like structure\n",
    "# field_subset_df_v2[\"parsed\"] = field_subset_df_v2[\"100\"].apply(lambda x: {kv.split(\":\")[0]: kv.split(\":\")[1] for kv in x.split(\"⑄\")} if isinstance(x, str) else {})\n",
    "# # Extract all unique keys (column names)\n",
    "# all_keys = sorted(set(k for d in field_subset_df_v2[\"parsed\"] for k in d.keys()))\n",
    "# # all_keys\n",
    "# # Create new columns with values only (remove key names)\n",
    "# for key in all_keys:\n",
    "#     field_subset_df_v2[key] = field_subset_df_v2[\"parsed\"].apply(lambda d: d[key] if key in d else \"null\")\n",
    "# # df\n",
    "# # Keep only relevant columns\n",
    "# field_subset_df_v3 = field_subset_df_v2[[\"001\", \"leader\"] + all_keys]\n",
    "\n",
    "####\n",
    "# FOR SUBJECTS (650)\n",
    "# Parse values into a dictionary-like structure\n",
    "field_subset_df_v3[\"parsed\"] = field_subset_df_v3[\"150\"].apply(lambda x: {kv.split('\":')[0]: kv.split('\":')[1] for kv in x.split(\"⑄\")} if isinstance(x, str) else {})\n",
    "# Extract all unique keys (column names)\n",
    "all_keys = sorted(set(k for d in field_subset_df_v3[\"parsed\"] for k in d.keys()))\n",
    "# all_keys\n",
    "# Create new columns with values only (remove key names)\n",
    "for key in all_keys:\n",
    "    field_subset_df_v3[key] = field_subset_df_v3[\"parsed\"].apply(lambda d: d[key] if key in d else \"null\")\n",
    "# df\n",
    "# Keep only relevant columns\n",
    "field_subset_df_v4 = field_subset_df_v3[[\"001\", \"150\", \"450\", \"550\", \"leader\"] + all_keys]"
   ]
  },
  {
   "cell_type": "code",
   "execution_count": null,
   "id": "f8222fc9-e2fd-4c0f-8e80-0050dce901d7",
   "metadata": {},
   "outputs": [],
   "source": [
    "field_subset_df_v4.info()"
   ]
  },
  {
   "cell_type": "code",
   "execution_count": null,
   "id": "39b3117f-9e98-4bf0-98e4-8b59e137241e",
   "metadata": {},
   "outputs": [],
   "source": [
    "field_subset_df_v4.head(5)"
   ]
  },
  {
   "cell_type": "code",
   "execution_count": null,
   "id": "01ce1e1f-f73e-418d-9cca-2636a9854a1b",
   "metadata": {},
   "outputs": [],
   "source": [
    "field_subset_df_v4.shape"
   ]
  },
  {
   "cell_type": "code",
   "execution_count": null,
   "id": "1d409234-1f16-495e-a681-78ffd8c5e45e",
   "metadata": {},
   "outputs": [],
   "source": [
    "field_subset_df_v5 = field_subset_df_v4.reset_index(drop=True)"
   ]
  },
  {
   "cell_type": "markdown",
   "id": "4160d5b4-865f-4393-bf99-b554296b8539",
   "metadata": {},
   "source": [
    "If the split shows some strange columns, you may need to inspect if it went well, for that it may be useful to check the unique values in the suspicious column, but since column names contain quotation marks, it is best to rename them first:"
   ]
  },
  {
   "cell_type": "code",
   "execution_count": null,
   "id": "a7522026-c869-4b06-a125-04866fba4a09",
   "metadata": {},
   "outputs": [],
   "source": [
    "# RENAME COLUMNS\n",
    "df_columns = field_subset_df_v5.columns\n",
    "# df_columns\n",
    "field_subset_df_v5.columns = field_subset_df_v5.columns.str.replace('\"', '', regex=False).str.strip()\n",
    "field_subset_df_v5.rename(columns={'150': '150', 'leader': 'leader', '450': '450', '550': '550', '0': 'indicator_0', 'a': 'subfield_a'}, inplace=True)\n",
    "field_subset_df_v5.info()"
   ]
  },
  {
   "cell_type": "markdown",
   "id": "7f00cb03-afbd-48e9-aead-46c6b24c62a6",
   "metadata": {},
   "source": [
    "Now you can inspect the column's unique values"
   ]
  },
  {
   "cell_type": "code",
   "execution_count": null,
   "id": "4f0c3f6d-e59a-4b96-b3b3-3648cb381023",
   "metadata": {},
   "outputs": [],
   "source": [
    "field_subset_df_v5['indicator_0'].unique().tolist()"
   ]
  },
  {
   "cell_type": "code",
   "execution_count": null,
   "id": "5b0996ec-0db6-421b-bff1-637d8c2f8cc6",
   "metadata": {},
   "outputs": [],
   "source": [
    "field_subset_df_v5.head()"
   ]
  },
  {
   "cell_type": "code",
   "execution_count": null,
   "id": "e1b64525-1dc2-4f0c-a776-2abaa8e82132",
   "metadata": {},
   "outputs": [],
   "source": [
    "field_subset_df_v8 = field_subset_df_v5.reset_index(drop=True)"
   ]
  },
  {
   "cell_type": "code",
   "execution_count": null,
   "id": "6fd8dac2",
   "metadata": {},
   "outputs": [],
   "source": [
    "# # You may want to dowload the table above to an excel file for further inspection:\n",
    "\n",
    "# # choose any name for your file, the file will go to the ../data/downloads folder.\n",
    "# # name_file = 'biblio_author_person_field_100a' #--> authors test\n",
    "# # name_file = 'biblio_geo_651a' #--> geoterms\n",
    "# # name_file = 'authorities_geo_151a_parenthesis'\n",
    "# # name_file = 'subject_terms_per_150'\n",
    "# name_file = 'person_names_per_100'\n",
    "\n",
    "# # field_subset_df.to_excel(f'{data_downloads}/{name_file}.xlsx')\n",
    "\n",
    "# ## or download to csv\n",
    "# field_subset_df_v3.to_csv(f'{data_downloads_authority}/{name_file}.csv', index=False) # if too big, use compression='gzip'"
   ]
  },
  {
   "cell_type": "markdown",
   "id": "eaad9407-e8e3-4777-8609-ff97e59b2eb7",
   "metadata": {},
   "source": [
    "### Report problematic records (now drop)"
   ]
  },
  {
   "cell_type": "code",
   "execution_count": null,
   "id": "f30e2354-c70f-46e6-aa01-73ff65a20254",
   "metadata": {},
   "outputs": [],
   "source": [
    "# see code in biblio_query, for now nothing to report."
   ]
  },
  {
   "cell_type": "markdown",
   "id": "43d00506-c8af-4434-9187-db3aaf184040",
   "metadata": {},
   "source": [
    "## Concatenate the dataframes again (empty/non-empty) -if needed"
   ]
  },
  {
   "cell_type": "code",
   "execution_count": null,
   "id": "ca3664e6-e6c7-4f07-b780-bd406a43a06c",
   "metadata": {},
   "outputs": [],
   "source": [
    "# # special for when there were two separated dfs one with non-empty values one with empty values, this is useful to generate\n",
    "# # report of empty fields, especially for the pie chart with records that don't have any value in 650a\n",
    "# field_subset_df_v8 = field_subset_df_v5.reset_index(drop=True)\n",
    "# # create column 650 with 'null/notnull' values to be able to filter\n",
    "# field_subset_df_v8[\"150\"] = 'notnull'\n",
    "# frames = [field_subset_df_v8, field_subset_df_vb]\n",
    "# field_subset_df_v9 = pd.concat(frames, ignore_index=True, sort=False)"
   ]
  },
  {
   "cell_type": "code",
   "execution_count": null,
   "id": "c875bae4-b02b-4dbb-93e3-b02793d963d6",
   "metadata": {},
   "outputs": [],
   "source": [
    "# # check if it went well\n",
    "# field_subset_df_v9['150'].unique().tolist()"
   ]
  },
  {
   "cell_type": "code",
   "execution_count": null,
   "id": "b61335d7-39bb-450f-aadc-e4efc126a3b5",
   "metadata": {},
   "outputs": [],
   "source": [
    "# field_subset_df_v9.info()"
   ]
  },
  {
   "cell_type": "code",
   "execution_count": null,
   "id": "1c2d5f36-22a7-4fe6-84cf-d3aacba865e7",
   "metadata": {},
   "outputs": [],
   "source": [
    "# # convert datatypes and fill in empty values\n",
    "# df_columns = field_subset_df_v9.columns\n",
    "# for column in df_columns:\n",
    "#     dataType = field_subset_df_v9.dtypes[column]\n",
    "#     if dataType == np.float64:\n",
    "#         field_subset_df_v9[column] = field_subset_df_v9[column].fillna('null')\n",
    "#         field_subset_df_v9[column] = field_subset_df_v9[column].astype(str)\n",
    "#     if dataType == np.int_:\n",
    "#         biblio_field_subset_df_v9df_v0[column] = field_subset_df_v9[column].fillna('null')\n",
    "#         field_subset_df_v9[column] = field_subset_df_v9[column].astype(str)\n",
    "#     if dataType == object:\n",
    "#         field_subset_df_v9[column] = field_subset_df_v9[column].fillna('null')\n",
    "#         field_subset_df_v9[column] = field_subset_df_v9[column].astype(str)"
   ]
  },
  {
   "cell_type": "code",
   "execution_count": null,
   "id": "31edd448-6d99-4699-a66b-4174e46492c3",
   "metadata": {},
   "outputs": [],
   "source": [
    "# field_subset_df_v10 = field_subset_df_v9.reset_index(drop=True).copy()"
   ]
  },
  {
   "cell_type": "markdown",
   "id": "98033c06-feaa-4955-aa5b-2cf9d52ab694",
   "metadata": {},
   "source": [
    "## Other operations"
   ]
  },
  {
   "cell_type": "code",
   "execution_count": null,
   "id": "c25a2591-3f46-4213-a5ef-f5088c4b191d",
   "metadata": {},
   "outputs": [],
   "source": [
    "# check how many fields 450 are filled in\n",
    "with450 = field_subset_df_v8[~field_subset_df_v8['550'].str.contains(\"null\", case=False, regex=True)]\n",
    "with450.shape"
   ]
  },
  {
   "cell_type": "markdown",
   "id": "bf2ef419-f304-4d2c-8f3e-ede739e50f22",
   "metadata": {},
   "source": [
    "## Download slice"
   ]
  },
  {
   "cell_type": "code",
   "execution_count": null,
   "id": "d08a9f66-676e-4a0d-83b2-7d6ea4f2f01c",
   "metadata": {},
   "outputs": [],
   "source": [
    "field_subset_df = field_subset_df_v8.reset_index(drop=True)\n",
    "field_subset_df.info(verbose=True)"
   ]
  },
  {
   "cell_type": "code",
   "execution_count": null,
   "id": "d3c29591-462b-495c-a27f-a530b7f95b5a",
   "metadata": {},
   "outputs": [],
   "source": [
    "field_subset_df.head()"
   ]
  },
  {
   "cell_type": "code",
   "execution_count": null,
   "id": "b4b3bc98-e401-4a60-9689-ebcae3cdf3e7",
   "metadata": {},
   "outputs": [],
   "source": [
    "# You may want to dowload the table above to an excel file for further inspection:\n",
    "\n",
    "# choose any name for your file, the file will go to the ../data/downloads folder.\n",
    "# name_file = 'biblio_author_person_field_100a' #--> authors test\n",
    "# name_file = 'biblio_geo_651a' #--> geoterms\n",
    "# name_file = 'biblio_serials_report_simon' #--> serials report for Simon 2024-11-14\n",
    "name_file = 'subjects_authority_150_subfields' # for thesaurus report (202504? and 20250414)\n",
    "# name_file = 'persons_100_subfields' # for thesaurus report (20250414)\n",
    "\n",
    "timestr = time.strftime(\"%Y%m%d-%H%M%S\")\n",
    "\n",
    "# field_subset_df.to_excel(f'{data_downloads}/{name_file}.xlsx')\n",
    "\n",
    "## or download to csv\n",
    "field_subset_df.to_csv(f'{data_downloads_authority}/{name_file}_{timestr}.csv', index=False) # if too big, use compression='gzip'"
   ]
  },
  {
   "cell_type": "code",
   "execution_count": null,
   "id": "90780864-4039-4e53-b406-cd0884e5e818",
   "metadata": {},
   "outputs": [],
   "source": []
  },
  {
   "cell_type": "markdown",
   "id": "e91e9ed3",
   "metadata": {},
   "source": [
    "# Create a subset of records with a certain value in a given column (toDo)\n",
    "You may also want to create a list of the records with a certain value in a given column, for example, for field 100e you got these unique values: ['creator.', 'null', 'creator']. You may want to get only the list of records that have \"creator.\""
   ]
  },
  {
   "cell_type": "code",
   "execution_count": null,
   "id": "a9c9734d-54a8-4be2-adda-3318dda7030d",
   "metadata": {},
   "outputs": [],
   "source": [
    "# when the file above is too big, it's useful sometimes to download it and upload it here again\n",
    "path = '/Users/lilianam/workspace/iisg-metadata-overviews/biblio/data'\n",
    "field_subset_df = pd.read_csv(f'{path}/biblio_titles.csv.gz', sep=\",\", compression='gzip', low_memory=False)"
   ]
  },
  {
   "cell_type": "code",
   "execution_count": null,
   "id": "2a9dfba0-00aa-4fec-9026-db8424737f76",
   "metadata": {},
   "outputs": [],
   "source": [
    "field_subset_df.head(5)"
   ]
  },
  {
   "cell_type": "code",
   "execution_count": null,
   "id": "dd9534ff",
   "metadata": {},
   "outputs": [],
   "source": [
    "# check if a string value exists in a column (the string is exactly the same)\n",
    "# query_value_exact = field_subset_df[field_subset_df['100a'] == 'Hajnal, Henri.'] --> I used in ....\n",
    "\n",
    "query_value_exact"
   ]
  },
  {
   "cell_type": "code",
   "execution_count": null,
   "id": "f8edfcf6",
   "metadata": {},
   "outputs": [],
   "source": [
    "# check if a string value exists in a column (the string is approximately the same)\n",
    "# you may want to find the records that have either \"creator.\" (with dot) or \"creator\" without dot, but not the null values\n",
    "# here it's possible to use regular expressions\n",
    "\n",
    "query_value_aprox = field_subset_df[field_subset_df['100a'].str.contains(\"Ka.*nelson, Berl\", case=False, regex=True)]"
   ]
  },
  {
   "cell_type": "code",
   "execution_count": null,
   "id": "eb7f7dd8-521f-4bcc-bc3f-085f6b1b89c6",
   "metadata": {},
   "outputs": [],
   "source": [
    "query_value_aprox.head(100)"
   ]
  },
  {
   "cell_type": "code",
   "execution_count": null,
   "id": "c82c0f95",
   "metadata": {},
   "outputs": [],
   "source": [
    "# get some idea of how many rows are in this set\n",
    "query_value_aprox.info(verbose = True, show_counts = True)"
   ]
  },
  {
   "cell_type": "code",
   "execution_count": null,
   "id": "3b4bfb65",
   "metadata": {},
   "outputs": [],
   "source": [
    "# check again the number of unique values in your subset\n",
    "query_value_aprox.describe()"
   ]
  },
  {
   "cell_type": "code",
   "execution_count": null,
   "id": "dd43026b",
   "metadata": {},
   "outputs": [],
   "source": [
    "# You may want to dowload the table above to an excel file for further inspection:\n",
    "\n",
    "# choose any name for your file, the file will go to the ../data/downloads folder.\n",
    "# name_file = 'biblio_author_person_field_100a_henri'\n",
    "name_file = 'biblio_to_map_la_periodicals_852j'\n",
    "\n",
    "query_value_aprox.to_excel(f'{data_downloads}/{name_file}.xlsx')\n",
    "\n",
    "## or download to csv\n",
    "# query_value_aprox.to_csv()"
   ]
  },
  {
   "cell_type": "markdown",
   "id": "c5c72f9d",
   "metadata": {},
   "source": [
    "# Create subsets using inverse query (toDo)\n",
    "You may need to create a report with all the records that do not contain a certain value. For example, because we used \"null\" to fill in all empty values, one could create a list with all the records that have a value in a certain column."
   ]
  },
  {
   "cell_type": "code",
   "execution_count": null,
   "id": "e9da9185",
   "metadata": {},
   "outputs": [],
   "source": [
    "# create a slice with the records that have non-null values in the column of interest\n",
    "# Note: if you want to query the subset instead of the whole data, then replace \"biblio_df\" with \"field_subset_df\" and run the cell again\n",
    "\n",
    "query_inverse = biblio_df[~biblio_df['100a'].str.contains(\"null\", case=False, regex=True)]\n",
    "\n",
    "query_inverse.head(10)"
   ]
  },
  {
   "cell_type": "code",
   "execution_count": null,
   "id": "0a2042fd",
   "metadata": {},
   "outputs": [],
   "source": [
    "# get some info about the subset you got as a result of the query:\n",
    "query_inverse.info(verbose=True, show_counts = True)"
   ]
  },
  {
   "cell_type": "code",
   "execution_count": null,
   "id": "d45d1b1a",
   "metadata": {},
   "outputs": [],
   "source": [
    "# You may want to dowload the table above to an excel file for further inspection:\n",
    "\n",
    "# choose any name for your file, the file will go to the ../data/downloads folder.\n",
    "name_file = 'biblio_author_person_field_100a_notEmpty'\n",
    "\n",
    "query_inverse.to_excel(f'{data_downloads}/{name_file}.xlsx')\n",
    "\n",
    "## or download to csv\n",
    "# query_inverse.to_csv()"
   ]
  },
  {
   "cell_type": "markdown",
   "id": "236d2b27",
   "metadata": {},
   "source": [
    "# Query for a specific record (toDo)\n",
    "You may want to see the details of a specific record, this can be done in two ways:"
   ]
  },
  {
   "cell_type": "code",
   "execution_count": null,
   "id": "cb773390",
   "metadata": {},
   "outputs": [],
   "source": [
    "# 1. by using the index position. Example: This item: ToDo has index position 0. \n",
    "# This position can be seen in the left corner of the entire table (cell above in Section5: biblio_df.head(10))\n",
    "# We will query it using the entire version of the data, not the subset\n",
    "\n",
    "# show record vertically using index position\n",
    "query_recordIndex = biblio_df.iloc[0]\n",
    "query_recordIndex"
   ]
  },
  {
   "cell_type": "code",
   "execution_count": null,
   "id": "c000399c",
   "metadata": {},
   "outputs": [],
   "source": [
    "# 2. By using the record Id using the Marc field 001\n",
    "query_recordId = biblio_df[biblio_df['001'] == '8']\n",
    "query_recordId"
   ]
  }
 ],
 "metadata": {
  "kernelspec": {
   "display_name": "Python 3 (ipykernel)",
   "language": "python",
   "name": "python3"
  },
  "language_info": {
   "codemirror_mode": {
    "name": "ipython",
    "version": 3
   },
   "file_extension": ".py",
   "mimetype": "text/x-python",
   "name": "python",
   "nbconvert_exporter": "python",
   "pygments_lexer": "ipython3",
   "version": "3.11.7"
  },
  "toc": {
   "base_numbering": 1,
   "nav_menu": {},
   "number_sections": true,
   "sideBar": true,
   "skip_h1_title": false,
   "title_cell": "Table of Contents",
   "title_sidebar": "Contents",
   "toc_cell": false,
   "toc_position": {},
   "toc_section_display": true,
   "toc_window_display": false
  }
 },
 "nbformat": 4,
 "nbformat_minor": 5
}
