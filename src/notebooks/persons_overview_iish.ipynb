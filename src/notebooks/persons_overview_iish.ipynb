{
 "cells": [
  {
   "cell_type": "markdown",
   "id": "7b4e265b-cf71-4ce0-826d-1915f3195f2c",
   "metadata": {},
   "source": [
    "# Jupyter notebook to get an overview of the different subject terms used at the IISH from four different sources\n",
    "- dateCreated: 2025-01-06\n",
    "- creator: Liliana Melgar"
   ]
  },
  {
   "cell_type": "markdown",
   "id": "77eb03a4-308b-4f73-817a-d5dd8233f59e",
   "metadata": {},
   "source": [
    "# Import libraries"
   ]
  },
  {
   "cell_type": "code",
   "execution_count": null,
   "id": "77f2a88f-23c0-4859-871d-1797768215c6",
   "metadata": {},
   "outputs": [],
   "source": [
    "import pandas as pd\n",
    "import numpy as np\n",
    "import csv\n",
    "import re\n",
    "import matplotlib.pyplot as plt\n",
    "\n",
    "from IPython.display import display, HTML\n",
    "from IPython.display import clear_output\n",
    "display(HTML(\"<style>.container { width:95% !important; }</style>\"))\n",
    "pd.set_option('display.max_rows', None)\n",
    "pd.set_option('display.max_columns', None)\n",
    "pd.set_option('display.max_colwidth', None)\n",
    "\n",
    "# import os.path to add paths to files\n",
    "import os"
   ]
  },
  {
   "cell_type": "markdown",
   "id": "1b239f0b-8ac7-46b3-a37f-f18991b27343",
   "metadata": {},
   "source": [
    "# Set paths to files"
   ]
  },
  {
   "cell_type": "code",
   "execution_count": null,
   "id": "3cfaa6fe-e484-4fa7-9516-f73118a8f84f",
   "metadata": {},
   "outputs": [],
   "source": [
    "# path to where the relevant data is located\n",
    "# biblio\n",
    "script_dir = os.getcwd()  # Gets the current working directory\n",
    "project_root = os.path.abspath(os.path.join(script_dir, \"..\", \"..\"))  # Moves up two levels to reach 'repo'\n",
    "data_directory_biblio = os.path.join(project_root, \"data\", \"biblio\")\n",
    "data_downloads_biblio = os.path.join(data_directory_biblio, 'downloads') #path to the folder where the reports will be downloaded\n",
    "\n",
    "# authority\n",
    "script_dir = os.getcwd()  # Gets the current working directory\n",
    "project_root = os.path.abspath(os.path.join(script_dir, \"..\", \"..\"))  # Moves up two levels to reach 'repo'\n",
    "data_directory_authority = os.path.join(project_root, \"data\", \"authority\")\n",
    "data_downloads_authority = os.path.join(data_directory_authority, 'downloads') #path to the folder where the reports will be downloaded\n",
    "\n",
    "# subjects (thesauri)\n",
    "script_dir = os.getcwd()  # Gets the current working directory\n",
    "project_root = os.path.abspath(os.path.join(script_dir, \"..\", \"..\"))  # Moves up two levels to reach 'repo'\n",
    "data_directory_subjects = os.path.join(project_root, \"data\", \"subjects\")\n",
    "data_downloads_subjects = os.path.join(data_directory_subjects, 'downloads') #path to the folder where the reports will be downloaded\n",
    "\n",
    "# persons\n",
    "script_dir = os.getcwd()  # Gets the current working directory\n",
    "project_root = os.path.abspath(os.path.join(script_dir, \"..\", \"..\"))  # Moves up two levels to reach 'repo'\n",
    "data_directory_persons = os.path.join(project_root, \"data\", \"persons\")\n",
    "data_downloads_persons = os.path.join(data_directory_subjects, 'downloads') #path to the folder where the reports will be downloaded\n"
   ]
  },
  {
   "cell_type": "markdown",
   "id": "229fc04d-0fd0-4d07-b8ad-6c29306503ac",
   "metadata": {},
   "source": [
    "# BIBLIO Persons\n",
    "- These terms are extracted from the IISH metadata using the public version of the OAI-PMH endpoint. For more information about what BIBLIO contains, see: https://confluence.socialhistoryservices.org/x/S4FeBw.\n",
    "- The harvesting was done using the code from the \"Metadata overviews\" repository: https://github.com/lilimelgar/iisg-metadata-overviews\n",
    "- **The harvesting date was April 4, 2025**.\n",
    "- Using another jupyter notebook (https://github.com/lilimelgar/iisg-metadata-overviews/blob/main/biblio/src/biblio_query.ipynb) I created a slice of the entire metadata selecting only the MARC field 100, because 100 corresponds to the persons/authors/creators in MARC (https://www.loc.gov/marc/bibliographic/bd100.html)"
   ]
  },
  {
   "cell_type": "code",
   "execution_count": null,
   "id": "6772a2cb-ccb3-4855-9cd7-a7ab26cd7ab6",
   "metadata": {},
   "outputs": [],
   "source": [
    "# read csv as dataframe\n",
    "\n",
    "biblio_persons_df_v0 = pd.read_csv(f'{data_downloads_biblio}/persons_100_subfields.csv', sep=\",\", low_memory=False)\n",
    "\n",
    "# biblio_subjectTerms_df_v0 = pd.read_csv(f'{data_directory}/biblio_subjectTerms600.csv.gzip', sep=\",\", compression='gzip', low_memory=False)\n",
    "# low_memory=False was set after this warning message: \"/var/folders/3y/xbjxw0b94jxg6x2bcbyjsmmcgvnf7q/T/ipykernel_987/2912965462.py:3: DtypeWarning: Columns (0) have mixed types. Specify dtype option on import or set low_memory=False.\""
   ]
  },
  {
   "cell_type": "code",
   "execution_count": null,
   "id": "ad2f4208-4697-48cf-afe5-cd281d779e2c",
   "metadata": {},
   "outputs": [],
   "source": [
    "biblio_persons_df_v0.info()"
   ]
  },
  {
   "cell_type": "code",
   "execution_count": null,
   "id": "7a04cbe7-889d-45ab-abd1-befc3db8acb2",
   "metadata": {},
   "outputs": [],
   "source": [
    "# convert datatypes and fill in empty values\n",
    "df_columns = biblio_persons_df_v0.columns\n",
    "for column in df_columns:\n",
    "    dataType = biblio_persons_df_v0.dtypes[column]\n",
    "    if dataType == np.float64:\n",
    "        biblio_persons_df_v0[column] = biblio_persons_df_v0[column].fillna('null')\n",
    "        biblio_persons_df_v0[column] = biblio_persons_df_v0[column].astype(str)\n",
    "    if dataType == np.int_:\n",
    "        biblio_persons_df_v0[column] = biblio_persons_df_v0[column].fillna('null')\n",
    "        biblio_persons_df_v0[column] = biblio_persons_df_v0[column].astype(str)\n",
    "    if dataType == object:\n",
    "        biblio_persons_df_v0[column] = biblio_persons_df_v0[column].fillna('null')\n",
    "        biblio_persons_df_v0[column] = biblio_persons_df_v0[column].astype(str)"
   ]
  },
  {
   "cell_type": "code",
   "execution_count": null,
   "id": "d5eb1366-f830-45df-b0e9-d79ed7661ed8",
   "metadata": {},
   "outputs": [],
   "source": [
    "# get an overview of the data\n",
    "biblio_persons_df = biblio_persons_df_v0.copy()\n",
    "biblio_persons_df.info(verbose = True, show_counts = True)"
   ]
  },
  {
   "cell_type": "code",
   "execution_count": null,
   "id": "22eadc53-8f82-4c67-9d56-81d4419ff772",
   "metadata": {},
   "outputs": [],
   "source": [
    "# get an overview of the data\n",
    "biblio_persons_df.shape"
   ]
  },
  {
   "cell_type": "code",
   "execution_count": null,
   "id": "69339785-9d0e-4527-8a70-fdfa2e323dfa",
   "metadata": {},
   "outputs": [],
   "source": [
    "# get an overview of the data\n",
    "biblio_persons_df.head(10)"
   ]
  },
  {
   "cell_type": "code",
   "execution_count": null,
   "id": "88504691-d1af-402b-a81a-18d1c3dda25b",
   "metadata": {},
   "outputs": [],
   "source": [
    "biblio_persons_df['001'].nunique()"
   ]
  },
  {
   "cell_type": "markdown",
   "id": "0e04fded-56fb-41e1-a042-84d531e7f97e",
   "metadata": {},
   "source": [
    "## Records with persons"
   ]
  },
  {
   "cell_type": "code",
   "execution_count": null,
   "id": "ab8cd48a-2ea9-4b61-8700-55348f414b52",
   "metadata": {},
   "outputs": [],
   "source": [
    "# create subset of biblio with relevant columns\n",
    "biblio_persons_df_v0 = biblio_persons_df[['001','100', 'leader_code']]"
   ]
  },
  {
   "cell_type": "code",
   "execution_count": null,
   "id": "76fb834b-232a-474e-90dc-fad6ce25911d",
   "metadata": {},
   "outputs": [],
   "source": [
    "biblio_persons_df_v0.info()"
   ]
  },
  {
   "cell_type": "code",
   "execution_count": null,
   "id": "e1cdaa54-d36e-4011-8229-5240945eff56",
   "metadata": {},
   "outputs": [],
   "source": [
    "# Count occurrences of 'null' and 'notNull'\n",
    "value_counts = biblio_persons_df_v0.groupby('100')['001'].nunique()\n",
    "value_counts"
   ]
  },
  {
   "cell_type": "code",
   "execution_count": null,
   "id": "0920fe7f-8f90-48d2-bddf-9bef724d7eaf",
   "metadata": {},
   "outputs": [],
   "source": [
    "# Get total unique '001' count\n",
    "total_unique_ids = biblio_persons_df_v0['001'].nunique()\n",
    "total_unique_ids"
   ]
  },
  {
   "cell_type": "code",
   "execution_count": null,
   "id": "59b8e07d-137d-4ec9-a052-04f87b765cc8",
   "metadata": {
    "scrolled": true
   },
   "outputs": [],
   "source": [
    "# Plot (Label mapping)\n",
    "labels_mapping = {\n",
    "    'notnull': f'records with field 100 ({value_counts.get(\"notnull\", 0)})',\n",
    "    'null': f'records without field 100 ({value_counts.get(\"null\", 0)})'\n",
    "}\n",
    "custom_labels = [labels_mapping[label] for label in value_counts.index]\n",
    "\n",
    "# Colors\n",
    "colors = ['#90ee90','#cccccc']\n",
    "\n",
    "# Step 4: Plot pie chart\n",
    "fig1, ax = plt.subplots(figsize=(7,6))\n",
    "wedges, texts, autotexts = ax.pie(\n",
    "    value_counts, labels=custom_labels, autopct='%1.1f%%', colors=colors, startangle=90,\n",
    "    wedgeprops={'edgecolor': 'white', 'linewidth': 2}, pctdistance=0.85\n",
    ")\n",
    "\n",
    "# Donut hole\n",
    "centre_circle = plt.Circle((0,0),0.70,fc='white')\n",
    "fig1.gca().add_artist(centre_circle)\n",
    "\n",
    "# Center text\n",
    "ax.text(0, 0, f'Total number of records in Biblio\\n{total_unique_ids}', \n",
    "        ha='center', va='center', fontsize=7, fontweight='bold')\n",
    "\n",
    "plt.tight_layout()\n",
    "plt.show()"
   ]
  },
  {
   "cell_type": "code",
   "execution_count": null,
   "id": "27794ed4-94b5-459e-b882-96249cb09a6e",
   "metadata": {},
   "outputs": [],
   "source": [
    "name_file = 'plot1_recordsWithPerson100'\n",
    "fig1.savefig(f'{data_downloads_subjects}/{name_file}.png', format='png', dpi=300, bbox_inches='tight')"
   ]
  },
  {
   "cell_type": "markdown",
   "id": "9b82c277-9403-4916-9e70-e6a161f7a0a0",
   "metadata": {},
   "source": [
    "### report including leader"
   ]
  },
  {
   "cell_type": "code",
   "execution_count": null,
   "id": "87e9e26d-2aae-4c26-a82f-ff354bb1b916",
   "metadata": {},
   "outputs": [],
   "source": [
    "# group by null and notnull and leader code\n",
    "value_counts_with_leader = biblio_persons_df_v0.groupby(['100', 'leader_code'])['001'].count()\n",
    "value_counts_with_leader.info()"
   ]
  },
  {
   "cell_type": "code",
   "execution_count": null,
   "id": "d0064a49-a512-4d9e-b186-a51a4e973e31",
   "metadata": {},
   "outputs": [],
   "source": [
    "import plotly.express as px\n",
    "\n",
    "# Assuming `result2` is a MultiIndex Series from groupby:\n",
    "# Convert to DataFrame and reset index\n",
    "df = value_counts_with_leader.reset_index(name='count')\n",
    "\n",
    "# Create a sunburst plot (nested pie chart)\n",
    "fig = px.sunburst(\n",
    "    df,\n",
    "    path=['100', 'leader_code'],  # First level: 'has'/'doesn't have', second level: 'code'\n",
    "    values='count',\n",
    "    title='Distribution of Records by Person Presence and Code'\n",
    ")\n",
    "fig.show()\n"
   ]
  },
  {
   "cell_type": "code",
   "execution_count": null,
   "id": "b6ed7a27-f64d-441e-a93e-7a32b2d39cb4",
   "metadata": {},
   "outputs": [],
   "source": [
    "import plotly.express as px\n",
    "\n",
    "df = value_counts_with_leader.reset_index(name='count')\n",
    "\n",
    "fig = px.treemap(\n",
    "    df,\n",
    "    path=['100', 'leader_code'],  # hierarchy levels\n",
    "    values='count',\n",
    "    title='Treemap: Record Distribution by Person Presence and Code'\n",
    ")\n",
    "\n",
    "fig.show()"
   ]
  },
  {
   "cell_type": "code",
   "execution_count": null,
   "id": "0d1014e5-7642-49f3-9e65-cd0e03941f86",
   "metadata": {},
   "outputs": [],
   "source": [
    "df = value_counts_with_leader.reset_index(name='count')\n",
    "\n",
    "fig = px.bar(\n",
    "    df,\n",
    "    x='leader_code',\n",
    "    y='count',\n",
    "    color='100',\n",
    "    barmode='group',\n",
    "    title='Grouped Bar Chart: Record Counts by Code and 100'\n",
    ")\n",
    "\n",
    "fig.show()"
   ]
  },
  {
   "cell_type": "markdown",
   "id": "e4bbdf55-e01d-4c27-9350-6b6b234bd0ab",
   "metadata": {},
   "source": [
    "## Unique subject terms"
   ]
  },
  {
   "cell_type": "code",
   "execution_count": null,
   "id": "c543fb17-d1a5-448a-93a0-34301f2a6d23",
   "metadata": {},
   "outputs": [],
   "source": [
    "# using strings\n",
    "biblio_subjectTerms_df['\"a\"'].nunique()"
   ]
  },
  {
   "cell_type": "code",
   "execution_count": null,
   "id": "14435fed-18d9-495a-83fa-0ad6e5b7320f",
   "metadata": {},
   "outputs": [],
   "source": [
    "# using Ids from authority\n",
    "biblio_subjectTerms_df['\"0\"'].nunique()"
   ]
  },
  {
   "cell_type": "code",
   "execution_count": null,
   "id": "edd59bec-588e-48da-8154-905d38f75f78",
   "metadata": {},
   "outputs": [],
   "source": [
    "biblio_subjectTerms_df.tail()"
   ]
  },
  {
   "cell_type": "code",
   "execution_count": null,
   "id": "964ec48d-b434-4495-abfe-22e18a1d649e",
   "metadata": {},
   "outputs": [],
   "source": [
    "# example of a term that doesn't have an identifier in 650$0\n",
    "test_term1 = biblio_subjectTerms_df[\n",
    "    (biblio_subjectTerms_df['\"0\"'].str.lower() == \"null\") &\n",
    "    (biblio_subjectTerms_df['\"a\"'].str.lower() != \"null\")\n",
    "]"
   ]
  },
  {
   "cell_type": "code",
   "execution_count": null,
   "id": "dd88b133-bf88-4912-8fcf-0ae5b5a01db6",
   "metadata": {},
   "outputs": [],
   "source": [
    "test_term1.head(100)"
   ]
  },
  {
   "cell_type": "code",
   "execution_count": null,
   "id": "6a2f0c35-13d8-4347-9d92-ad146ad40c2e",
   "metadata": {},
   "outputs": [],
   "source": [
    "test_term1.shape"
   ]
  },
  {
   "cell_type": "code",
   "execution_count": null,
   "id": "b425ba00-1866-481e-a39e-7ff7c8a1991f",
   "metadata": {},
   "outputs": [],
   "source": [
    "test_term1['001'].unique().tolist()"
   ]
  },
  {
   "cell_type": "code",
   "execution_count": null,
   "id": "2c342543-ae48-4c73-b955-3896e251f29e",
   "metadata": {},
   "outputs": [],
   "source": [
    "test_term1['001'].nunique()"
   ]
  },
  {
   "cell_type": "markdown",
   "id": "c6792880-bb1c-4f72-92f5-69db5e08e2b4",
   "metadata": {},
   "source": [
    "### Questions about the number of unique subject terms: \n",
    "1) why are the unique counts different? are the identifiers from 650$0 added only when a term is entered in Authorities? why are there terms without field 650$0?\n",
    "2) In the test term below, why do the inconsistencies occur? I noticed that if one picks up a term from authorities, both the id and the string are loaded, but the string can be changed. -> shouldn't we try to lock the edit in Biblio?"
   ]
  },
  {
   "cell_type": "code",
   "execution_count": null,
   "id": "54d21da9-1bd8-46ce-ae34-1d7a2d7e882c",
   "metadata": {},
   "outputs": [],
   "source": [
    "# example to test why there is no one-to-one correspondence between the string and the id in the correspondent authority\n",
    "test_term2 = biblio_subjectTerms_df[biblio_subjectTerms_df['\"0\"'].str.contains(\"318765\", case=False, regex=True)]\n",
    "test_term2"
   ]
  },
  {
   "cell_type": "code",
   "execution_count": null,
   "id": "012dab3c-1016-4809-8d8e-9e5fe5bf7432",
   "metadata": {},
   "outputs": [],
   "source": [
    "test_term_strings = test_term2['\"0\"'].unique().tolist()\n",
    "for term in test_term_strings:\n",
    "    print(term)"
   ]
  },
  {
   "cell_type": "code",
   "execution_count": null,
   "id": "c295e124-e42a-49b2-b334-bf74eb93d92a",
   "metadata": {},
   "outputs": [],
   "source": [
    "test_term_strings = test_term2['\"a\"'].unique().tolist()\n",
    "for term in test_term_strings:\n",
    "    print(term)"
   ]
  },
  {
   "cell_type": "code",
   "execution_count": null,
   "id": "4991aa08-c27e-4734-bb60-748e7e2f8908",
   "metadata": {},
   "outputs": [],
   "source": [
    "# create a df groupping per term showing the counts\n",
    "# Group by 'term' and count unique '001' values for each term\n",
    "biblio_subjectUniqueTerms_v0 = biblio_subjectTerms_df.groupby('\"a\"', as_index=False).agg(\n",
    "    count_of_records=('001', 'nunique'),\n",
    "    ids=('001', lambda x: ','.join(map(str, x)))\n",
    ")\n",
    "\n",
    "# Sort by 'count_of_ids' in descending order (most frequent to least frequent)\n",
    "biblio_subjectUniqueTerms_v1 = biblio_subjectUniqueTerms_v0.sort_values(by='count_of_records', ascending=False)"
   ]
  },
  {
   "cell_type": "code",
   "execution_count": null,
   "id": "63d0c153-ac58-4b0e-a6c8-139795026bbd",
   "metadata": {},
   "outputs": [],
   "source": [
    "biblio_subjectUniqueTerms_v1.head()"
   ]
  },
  {
   "cell_type": "code",
   "execution_count": null,
   "id": "15d5d28d-1be0-4a6e-9aad-36295044b970",
   "metadata": {},
   "outputs": [],
   "source": [
    "# remove column with the record Ids\n",
    "biblio_subjectUniqueTerms_v2 = biblio_subjectUniqueTerms_v1[['\"a\"','count_of_records']]"
   ]
  },
  {
   "cell_type": "code",
   "execution_count": null,
   "id": "bc3cdcce-3ba9-4622-85f9-65d951889437",
   "metadata": {},
   "outputs": [],
   "source": [
    "biblio_subjectUniqueTerms_v2.info()"
   ]
  },
  {
   "cell_type": "code",
   "execution_count": null,
   "id": "e05cd2b8-09df-4b65-9ba8-68e7a6317cc4",
   "metadata": {},
   "outputs": [],
   "source": [
    "# dropping the row that contains the null values\n",
    "biblio_subjectUniqueTerms_v3 = biblio_subjectUniqueTerms_v2[biblio_subjectUniqueTerms_v2['\"a\"'] != 'null']"
   ]
  },
  {
   "cell_type": "code",
   "execution_count": null,
   "id": "b22f3456-9743-4acb-aeb6-5f92b653ce1a",
   "metadata": {},
   "outputs": [],
   "source": [
    "biblio_subjectUniqueTerms_v3.info()"
   ]
  },
  {
   "cell_type": "code",
   "execution_count": null,
   "id": "e3258449-bb62-4cb8-86a8-9d85f48a5357",
   "metadata": {},
   "outputs": [],
   "source": [
    "biblio_subjectUniqueTerms_v3.head()"
   ]
  },
  {
   "cell_type": "code",
   "execution_count": null,
   "id": "537d360f-bace-4ec7-b361-a19e55925b64",
   "metadata": {},
   "outputs": [],
   "source": [
    "biblio_subjectUniqueTerms_v4 = biblio_subjectUniqueTerms_v3.reset_index(drop=True)"
   ]
  },
  {
   "cell_type": "code",
   "execution_count": null,
   "id": "c5c44875-595c-460c-91c3-bae2d4f43aec",
   "metadata": {},
   "outputs": [],
   "source": [
    "biblio_subjectUniqueTerms_v4.info()"
   ]
  },
  {
   "cell_type": "code",
   "execution_count": null,
   "id": "66d896ce-e83f-4e6a-91f2-a25eb101a873",
   "metadata": {},
   "outputs": [],
   "source": [
    "# determine how many persons should be shown\n",
    "top_r = 20\n",
    "# create small df for displaying and plotting\n",
    "biblio_subjectUniqueTerms_top = biblio_subjectUniqueTerms_v4.head(top_r).reset_index(drop=True).copy()\n",
    "\n",
    "# plotting in a barh chart the top n terms\n",
    "fig2, ax = plt.subplots(figsize=(20, 10))  # Create the figure object\n",
    "ax = biblio_subjectUniqueTerms_top.groupby(['\"a\"'])['count_of_records'].sum().sort_values(ascending=True).tail(top_r).plot(kind='barh', figsize=(20, 10))\n",
    "ax.set_title(\"Top terms in Biblio's 650$a field\")\n",
    "ax.set_xlabel(\"Number biblio records\")\n",
    "ax.set_ylabel(\"Term $a\")"
   ]
  },
  {
   "cell_type": "code",
   "execution_count": null,
   "id": "6c1968e3-9098-4885-b75f-244ba6146dab",
   "metadata": {},
   "outputs": [],
   "source": [
    "name_file = 'plot2_uniqueSubjectTerms650a--'\n",
    "# Save the figure as PNG\n",
    "fig2.savefig(f'{data_downloads_subjects}/{name_file}.png', format='png', dpi=300, bbox_inches='tight')\n"
   ]
  },
  {
   "cell_type": "code",
   "execution_count": null,
   "id": "e4433324-0ed6-4322-a4c0-ab6ff1e5e682",
   "metadata": {},
   "outputs": [],
   "source": [
    "# export all list of unique subject terms with the number of occurrences in Biblio\n",
    "biblio_subjectUniqueTerms_v1.rename(columns={'\"a\"': '650a', 'count_of_records': 'count_records_biblio', 'ids': 'biblio_record_ids'}, inplace=True)\n",
    "\n",
    "name_file = 'unique_650a_with_counts_and_recordIds'\n",
    "\n",
    "biblio_subjectUniqueTerms_v1.to_csv(f'{data_downloads_subjects}/{name_file}.csv', index=False) # if too big, use compression='gzip'"
   ]
  },
  {
   "cell_type": "code",
   "execution_count": null,
   "id": "ece887ea-cdc8-43b8-ac1f-7649c099f1aa",
   "metadata": {},
   "outputs": [],
   "source": [
    "biblio_subjectUniqueTerms_v1.info()"
   ]
  },
  {
   "cell_type": "code",
   "execution_count": null,
   "id": "315cd4ff-7ca5-49d8-a209-684c768c51f0",
   "metadata": {},
   "outputs": [],
   "source": [
    "biblio_subjectUniqueTerms = biblio_subjectUniqueTerms_v1.reset_index(drop=True).copy()"
   ]
  },
  {
   "cell_type": "code",
   "execution_count": null,
   "id": "db73df2c-f6cf-4f3a-a426-8d2f0f4a3fd5",
   "metadata": {},
   "outputs": [],
   "source": [
    "list_unique_terms_biblio = biblio_subjectUniqueTerms_v1['650a'].unique().tolist()"
   ]
  },
  {
   "cell_type": "code",
   "execution_count": null,
   "id": "e8590cab-e85f-42c7-978f-debf6edc11c7",
   "metadata": {},
   "outputs": [],
   "source": [
    "len(list_unique_terms_biblio)"
   ]
  },
  {
   "cell_type": "code",
   "execution_count": null,
   "id": "1790c4a3-0fc2-46ee-923d-8858ed7fe5b6",
   "metadata": {},
   "outputs": [],
   "source": [
    "biblio_subjectUniqueTerms.info()"
   ]
  },
  {
   "cell_type": "code",
   "execution_count": null,
   "id": "95f2548f-f6e9-4e0a-9390-1e7dcc9e6843",
   "metadata": {},
   "outputs": [],
   "source": []
  },
  {
   "cell_type": "markdown",
   "id": "127f35ef-21eb-4c18-b0dd-d9b9f58f67ae",
   "metadata": {},
   "source": [
    "# AUTHORITIES subject terms\n",
    "- These terms are extracted from the IISH metadata using the public version of the OAI-PMH endpoint. For more information about what AUTHORITIES contains, see: https://confluence.socialhistoryservices.org/x/S4FeBw.\n",
    "- The harvesting was done using the code from the \"Metadata overviews\" repository: https://github.com/lilimelgar/iisg-metadata-overviews\n",
    "- The harvesting date was November 13th, 2024.\n",
    "- Using another jupyter notebook (https://github.com/lilimelgar/iisg-metadata-overviews/blob/main/biblio/src/biblio_query.ipynb) I created a slice of the entire metadata selecting only the MARC fields that start with 6, because 600 corresponds to the group of subject terms in MARC (https://www.loc.gov/marc/bibliographic/bd6xx.html)"
   ]
  },
  {
   "cell_type": "code",
   "execution_count": null,
   "id": "7c9b1d56-e05a-44e1-a687-af0e61d0a8a3",
   "metadata": {},
   "outputs": [],
   "source": [
    "# read csv as dataframe\n",
    "authorities_subjectTerms_df_v0 = pd.read_csv(f'{data_downloads_authority}/subject_terms_per_150.csv', sep=\",\", low_memory=False)\n",
    "# low_memory=False was set after this warning message: \"/var/folders/3y/xbjxw0b94jxg6x2bcbyjsmmcgvnf7q/T/ipykernel_987/2912965462.py:3: DtypeWarning: Columns (0) have mixed types. Specify dtype option on import or set low_memory=False.\""
   ]
  },
  {
   "cell_type": "code",
   "execution_count": null,
   "id": "340a1832-0b88-44fb-8634-308825257a8f",
   "metadata": {},
   "outputs": [],
   "source": [
    "# get an overview of the data\n",
    "authorities_subjectTerms_df_v0.info(verbose = True, show_counts = True)"
   ]
  },
  {
   "cell_type": "code",
   "execution_count": null,
   "id": "e35a97c4-eb49-4dc2-a328-b517b962f629",
   "metadata": {},
   "outputs": [],
   "source": [
    "# convert datatypes and fill in empty values\n",
    "df_columns = authorities_subjectTerms_df_v0.columns\n",
    "for column in df_columns:\n",
    "    dataType = authorities_subjectTerms_df_v0.dtypes[column]\n",
    "    if dataType == np.float64:\n",
    "        authorities_subjectTerms_df_v0[column] = authorities_subjectTerms_df_v0[column].fillna('null')\n",
    "        authorities_subjectTerms_df_v0[column] = authorities_subjectTerms_df_v0[column].astype(str)\n",
    "    if dataType == np.int_:\n",
    "        authorities_subjectTerms_df_v0[column] = authorities_subjectTerms_df_v0[column].fillna('null')\n",
    "        authorities_subjectTerms_df_v0[column] = authorities_subjectTerms_df_v0[column].astype(str)\n",
    "    if dataType == object:\n",
    "        authorities_subjectTerms_df_v0[column] = authorities_subjectTerms_df_v0[column].fillna('null')\n",
    "        authorities_subjectTerms_df_v0[column] = authorities_subjectTerms_df_v0[column].astype(str)"
   ]
  },
  {
   "cell_type": "code",
   "execution_count": null,
   "id": "982a9cc1-129b-4910-9633-9de61668c00b",
   "metadata": {},
   "outputs": [],
   "source": [
    "# convert id to string\n",
    "authorities_subjectTerms_df_v0['001'] = authorities_subjectTerms_df_v0['001'].astype(str)\n",
    "authorities_subj_df_v1 = authorities_subjectTerms_df_v0.copy()"
   ]
  },
  {
   "cell_type": "code",
   "execution_count": null,
   "id": "e9efad92-118d-4831-ad28-b4da26916034",
   "metadata": {},
   "outputs": [],
   "source": [
    "# get an overview of the data\n",
    "authorities_subj_df_v1.shape"
   ]
  },
  {
   "cell_type": "code",
   "execution_count": null,
   "id": "6b5c289e-ee1a-41f0-9ecf-99e52cc8a785",
   "metadata": {},
   "outputs": [],
   "source": [
    "# get an overview of the data\n",
    "authorities_subj_df_v1.tail(10)"
   ]
  },
  {
   "cell_type": "code",
   "execution_count": null,
   "id": "018b0d76-2be7-4276-809c-651a368c99a0",
   "metadata": {},
   "outputs": [],
   "source": [
    "# get an overview of the data\n",
    "authorities_subj_df_v1.describe()"
   ]
  },
  {
   "cell_type": "code",
   "execution_count": null,
   "id": "3c2aae5f-719e-4d20-a084-3ff696871637",
   "metadata": {},
   "outputs": [],
   "source": [
    "query_test12 = authorities_subj_df_v1[authorities_subj_df_v1['150'].str.contains(\"⑄\", case=False, regex=True)] #\n",
    "query_test12"
   ]
  },
  {
   "cell_type": "code",
   "execution_count": null,
   "id": "f5444943-221b-48eb-a5ba-c5c65d8dfddf",
   "metadata": {},
   "outputs": [],
   "source": [
    "# TEMPORARILY DROP THE OUTLIER\n",
    "authorities_sub_df_v2 = authorities_subj_df_v1.drop(300).copy()"
   ]
  },
  {
   "cell_type": "code",
   "execution_count": null,
   "id": "e1dd0ba2-4051-41ab-a8da-3c638c153650",
   "metadata": {},
   "outputs": [],
   "source": [
    "authorities_sub_df_v2.shape"
   ]
  },
  {
   "cell_type": "code",
   "execution_count": null,
   "id": "7a072c02-7611-436d-91ad-0c9cb046e536",
   "metadata": {},
   "outputs": [],
   "source": [
    "query_test13 = authorities_sub_df_v2[authorities_sub_df_v2['150'].str.contains('\"a\":', case=False, regex=True)] #\n",
    "query_test13"
   ]
  },
  {
   "cell_type": "code",
   "execution_count": null,
   "id": "41d3f1a6-1904-4de9-81f1-a6dbdd02fb16",
   "metadata": {},
   "outputs": [],
   "source": [
    "query_test13.shape"
   ]
  },
  {
   "cell_type": "code",
   "execution_count": null,
   "id": "7a0622a0-2c6b-4f89-83d1-3a0f7191f158",
   "metadata": {},
   "outputs": [],
   "source": [
    "authorities_sub_df_v2['150a'] = authorities_sub_df_v2['150'].map(lambda x: x.lstrip('\"a\":').rstrip(''))"
   ]
  },
  {
   "cell_type": "code",
   "execution_count": null,
   "id": "f22ae3fa-af4f-47ad-b134-c4528417b190",
   "metadata": {},
   "outputs": [],
   "source": [
    "# authorities_subj_df['150a'].unique()"
   ]
  },
  {
   "cell_type": "code",
   "execution_count": null,
   "id": "04cf62f0-3834-4d28-a15d-104a1eec7b21",
   "metadata": {},
   "outputs": [],
   "source": [
    "list_unique_terms_authority = authorities_sub_df_v2['150a'].unique().tolist()"
   ]
  },
  {
   "cell_type": "code",
   "execution_count": null,
   "id": "c9bce97c-3f43-4c60-8657-c3b23a6c393b",
   "metadata": {},
   "outputs": [],
   "source": [
    "print(type(list_unique_terms_authority))"
   ]
  },
  {
   "cell_type": "code",
   "execution_count": null,
   "id": "5e0f2bcc-b458-4e2e-84b4-7880aaa0bb15",
   "metadata": {},
   "outputs": [],
   "source": [
    "len(list_unique_terms_authority)"
   ]
  },
  {
   "cell_type": "code",
   "execution_count": null,
   "id": "1528f2f9-566d-448b-9f3f-c731a39b0252",
   "metadata": {},
   "outputs": [],
   "source": [
    "authorities_sub_df_v2.info()"
   ]
  },
  {
   "cell_type": "code",
   "execution_count": null,
   "id": "360971ab-1cc1-4700-8e89-ac2b74c917fa",
   "metadata": {},
   "outputs": [],
   "source": [
    "for item in list_unique_terms_authority:\n",
    "    print(item)"
   ]
  },
  {
   "cell_type": "code",
   "execution_count": null,
   "id": "a0fc95bc-dcac-4732-99f5-3224790ac084",
   "metadata": {},
   "outputs": [],
   "source": [
    "authorities_sub_df_v2.head()"
   ]
  },
  {
   "cell_type": "code",
   "execution_count": null,
   "id": "6b0acbbe-20ca-42f7-afb8-d1e4097d13bc",
   "metadata": {},
   "outputs": [],
   "source": [
    "authorities_sub_df = authorities_sub_df_v2.reset_index(drop=True)"
   ]
  },
  {
   "cell_type": "code",
   "execution_count": null,
   "id": "32587635-5517-4984-93fb-514dfec1721e",
   "metadata": {},
   "outputs": [],
   "source": [
    "authorities_sub_df.info(verbose=True)"
   ]
  },
  {
   "cell_type": "code",
   "execution_count": null,
   "id": "db2d4322-8b67-4933-be49-be7215ac6e0b",
   "metadata": {},
   "outputs": [],
   "source": []
  },
  {
   "cell_type": "code",
   "execution_count": null,
   "id": "c912794e-6a8b-4687-b242-7b2da01784cd",
   "metadata": {},
   "outputs": [],
   "source": []
  },
  {
   "cell_type": "code",
   "execution_count": null,
   "id": "9c9c1bd5-9c04-4c12-9cc9-b203bfd9350c",
   "metadata": {},
   "outputs": [],
   "source": []
  },
  {
   "cell_type": "code",
   "execution_count": null,
   "id": "f19537eb-92f0-4b7f-b004-6cd5aa8238b8",
   "metadata": {},
   "outputs": [],
   "source": []
  },
  {
   "cell_type": "markdown",
   "id": "5fd88795-df70-40ad-a8f6-1ee8f98e0ce3",
   "metadata": {},
   "source": [
    "# Comparing biblio unique terms with authorities unique terms"
   ]
  },
  {
   "cell_type": "code",
   "execution_count": null,
   "id": "fd89438d-72ef-4402-9d79-1f24d2917660",
   "metadata": {},
   "outputs": [],
   "source": [
    "dfA = biblio_subjectUniqueTerms\n",
    "dfB = authorities_sub_df"
   ]
  },
  {
   "cell_type": "code",
   "execution_count": null,
   "id": "46731fc7-fa69-40aa-88d5-776dbd140cf9",
   "metadata": {},
   "outputs": [],
   "source": [
    "dfA.info()"
   ]
  },
  {
   "cell_type": "code",
   "execution_count": null,
   "id": "67ddb6b0-80ff-4868-8bae-1a56e747e0ed",
   "metadata": {},
   "outputs": [],
   "source": [
    "dfB.info()"
   ]
  },
  {
   "cell_type": "code",
   "execution_count": null,
   "id": "63e1707b-daa4-4ec3-a797-154f278514de",
   "metadata": {},
   "outputs": [],
   "source": [
    "# This python script detects the string similarity between two lists of concepts/terms.\n",
    "\n",
    "from tqdm import tqdm\n",
    "from time import sleep\n",
    "from fuzzywuzzy import fuzz\n",
    "\n",
    "# Create an empty DataFrame to store matches\n",
    "mapped_candidates = pd.DataFrame()\n",
    "\n",
    "# Define score thresholds\n",
    "rangeScoreHigh = 100  # Define explicitly\n",
    "rangeScoreMid = 99     # Define if needed\n",
    "\n",
    "# List to accumulate matches (faster than appending to DataFrame directly)\n",
    "row_list = []  \n",
    "\n",
    "############################## CAPTURE VARIABLES FROM DFs #######################################\n",
    "for indexB, rowB in tqdm(dfB.iterrows(), total=dfB.shape[0]):\n",
    "    # Capture basic standard columns for the mapping dataset B (to be mapped) as variables\n",
    "    nameStringB = rowB['150a']  # Access row directly for efficiency\n",
    "    sleep(0.01)  # Optional\n",
    "\n",
    "    for indexA, rowA in dfA.iterrows():\n",
    "        # Capture standard columns for dataset A\n",
    "        nameStringA = rowA['650a']  # Access row directly\n",
    "\n",
    "        ############################## SET STRING MATCHING SETTINGS #######################################\n",
    "        matchScore1 = fuzz.token_sort_ratio(nameStringA, nameStringB)\n",
    "        matchScore2 = fuzz.token_set_ratio(nameStringA, nameStringB)\n",
    "\n",
    "        ############################## RUN STRING MATCHING #######################################\n",
    "        if matchScore1 == rangeScoreHigh:\n",
    "            row_list.append({\n",
    "                'match_nameStringB': nameStringB,\n",
    "                'nameStringA': nameStringA,\n",
    "            })\n",
    "\n",
    "# Convert list to DataFrame once (efficient)\n",
    "if row_list:\n",
    "    mapped_candidates = pd.DataFrame(row_list)\n",
    "\n"
   ]
  },
  {
   "cell_type": "code",
   "execution_count": null,
   "id": "25816613-1676-42f4-9b79-63dc2e71cd74",
   "metadata": {},
   "outputs": [],
   "source": [
    "mapped_candidates.info()"
   ]
  },
  {
   "cell_type": "code",
   "execution_count": null,
   "id": "b604b580-8bbf-414f-b25b-7270de4d1ca2",
   "metadata": {},
   "outputs": [],
   "source": []
  },
  {
   "cell_type": "code",
   "execution_count": null,
   "id": "a671c197-f647-4d29-bf9e-a18f771c71cd",
   "metadata": {},
   "outputs": [],
   "source": []
  },
  {
   "cell_type": "code",
   "execution_count": null,
   "id": "3620e2d6-004d-48f2-b9cf-e4844c062c89",
   "metadata": {},
   "outputs": [],
   "source": []
  },
  {
   "cell_type": "code",
   "execution_count": null,
   "id": "a08d2c7e-4eaf-48f6-84f9-bb3680666a5e",
   "metadata": {},
   "outputs": [],
   "source": []
  },
  {
   "cell_type": "code",
   "execution_count": null,
   "id": "e7c02eee-14b0-4067-a94b-37f8341d885b",
   "metadata": {},
   "outputs": [],
   "source": []
  },
  {
   "cell_type": "code",
   "execution_count": null,
   "id": "764dbbae-8a3b-4bdd-80b2-39d26490c6bb",
   "metadata": {},
   "outputs": [],
   "source": []
  },
  {
   "cell_type": "code",
   "execution_count": null,
   "id": "e3c9aeae-46d5-47d2-828e-a6e046478036",
   "metadata": {},
   "outputs": [],
   "source": []
  },
  {
   "cell_type": "code",
   "execution_count": null,
   "id": "4253b022-023b-48d0-9fde-e7cb4b62df56",
   "metadata": {},
   "outputs": [],
   "source": []
  },
  {
   "cell_type": "code",
   "execution_count": null,
   "id": "9441cc99-65b9-4b84-8395-8f9ff48e502e",
   "metadata": {},
   "outputs": [],
   "source": []
  },
  {
   "cell_type": "code",
   "execution_count": null,
   "id": "3bcc6c30-a835-458a-83ba-867966758b71",
   "metadata": {},
   "outputs": [],
   "source": []
  },
  {
   "cell_type": "code",
   "execution_count": null,
   "id": "f4461dca-8832-4c8f-906e-ff1e4aa17905",
   "metadata": {},
   "outputs": [],
   "source": []
  },
  {
   "cell_type": "code",
   "execution_count": null,
   "id": "e51a05e5-d98c-4530-aad4-2069adcb6bbc",
   "metadata": {},
   "outputs": [],
   "source": []
  },
  {
   "cell_type": "code",
   "execution_count": null,
   "id": "29df7424-3e13-400f-9e56-72bf3a12df35",
   "metadata": {},
   "outputs": [],
   "source": []
  },
  {
   "cell_type": "markdown",
   "id": "5ad18104-426f-4f1c-9df1-d2ee4255ec12",
   "metadata": {},
   "source": [
    "# THESAURUS (poolparty)\n",
    "Here I import an export from Poolparty with the concepts and their broader and narrower terms.\n",
    "Here is the query I used:\n",
    "\n",
    "```\n",
    "PREFIX skos: <http://www.w3.org/2004/02/skos/core#>\n",
    "\n",
    "SELECT ?Concept \n",
    "       (GROUP_CONCAT(DISTINCT ?Label; separator=\", \") AS ?PreferredLabels)\n",
    "       (GROUP_CONCAT(DISTINCT ?AltLabel; separator=\", \") AS ?AlternativeLabels)\n",
    "       (GROUP_CONCAT(DISTINCT CONCAT(STR(?Broader), \" (\", COALESCE(?BroaderLabel, \"No Label\"), \")\"); separator=\", \") AS ?BroaderConcepts)\n",
    "       (GROUP_CONCAT(DISTINCT CONCAT(STR(?Narrower), \" (\", COALESCE(?NarrowerLabel, \"No Label\"), \")\"); separator=\", \") AS ?NarrowerConcepts)\n",
    "WHERE {\n",
    "  ?Concept a skos:Concept .\n",
    "  OPTIONAL { ?Concept skos:prefLabel ?Label . }\n",
    "  OPTIONAL { ?Concept skos:altLabel ?AltLabel . }\n",
    "  \n",
    "  OPTIONAL { \n",
    "    ?Concept skos:broader ?Broader .\n",
    "    OPTIONAL { ?Broader skos:prefLabel ?BroaderLabel . }\n",
    "  }\n",
    "  \n",
    "  OPTIONAL { \n",
    "    ?Concept skos:narrower ?Narrower .\n",
    "    OPTIONAL { ?Narrower skos:prefLabel ?NarrowerLabel . }\n",
    "  }\n",
    "}\n",
    "GROUP BY ?Concept\n",
    "ORDER BY ?Concept\n",
    "\n",
    "```"
   ]
  },
  {
   "cell_type": "code",
   "execution_count": null,
   "id": "52f2f348-5841-44a0-b5d7-55b915b860fb",
   "metadata": {},
   "outputs": [],
   "source": [
    "# read csv as dataframe\n",
    "poolparty_df_v0 = pd.read_csv(f'{data_directory_subjects}/poolparty/iish-poolparty-query-result.tsv', sep=\"\\t\", low_memory=False)\n",
    "# low_memory=False was set after this warning message: \"/var/folders/3y/xbjxw0b94jxg6x2bcbyjsmmcgvnf7q/T/ipykernel_987/2912965462.py:3: DtypeWarning: Columns (0) have mixed types. Specify dtype option on import or set low_memory=False.\""
   ]
  },
  {
   "cell_type": "code",
   "execution_count": null,
   "id": "2e087987-4ab9-4550-9c2c-80cc249b52e3",
   "metadata": {},
   "outputs": [],
   "source": [
    "poolparty_df_v0.info()"
   ]
  },
  {
   "cell_type": "code",
   "execution_count": null,
   "id": "396aea22-46d9-4a69-a9f4-afb875c847d8",
   "metadata": {},
   "outputs": [],
   "source": [
    "poolparty_df_v0.head(1)"
   ]
  },
  {
   "cell_type": "code",
   "execution_count": null,
   "id": "4b003b8b-91bf-42b8-b8d5-925245d62e8c",
   "metadata": {},
   "outputs": [],
   "source": [
    "# convert datatypes and fill in empty values\n",
    "df_columns = poolparty_df_v0.columns\n",
    "for column in df_columns:\n",
    "    dataType = poolparty_df_v0.dtypes[column]\n",
    "    if dataType == np.float64:\n",
    "        poolparty_df_v0[column] = poolparty_df_v0[column].fillna('null')\n",
    "        poolparty_df_v0[column] = poolparty_df_v0[column].astype(str)\n",
    "    if dataType == np.int_:\n",
    "        poolparty_df_v0[column] = poolparty_df_v0[column].fillna('null')\n",
    "        poolparty_df_v0[column] = poolparty_df_v0[column].astype(str)\n",
    "    if dataType == object:\n",
    "        poolparty_df_v0[column] = poolparty_df_v0[column].fillna('null')\n",
    "        poolparty_df_v0[column] = poolparty_df_v0[column].astype(str)"
   ]
  },
  {
   "cell_type": "code",
   "execution_count": null,
   "id": "9ba701d3-66ac-4fcf-b518-bfa780d462a5",
   "metadata": {},
   "outputs": [],
   "source": [
    "poolparty_df_v0.info()"
   ]
  },
  {
   "cell_type": "code",
   "execution_count": null,
   "id": "d89160a0-b987-42c3-899b-e8ed3c46073f",
   "metadata": {},
   "outputs": [],
   "source": [
    "poolparty_df_v1 = poolparty_df_v0.copy()"
   ]
  },
  {
   "cell_type": "code",
   "execution_count": null,
   "id": "15f6fc07-a8bf-4c31-9bd5-22da87748dd7",
   "metadata": {},
   "outputs": [],
   "source": [
    "test10 = poolparty_df_v1[poolparty_df_v1['PreferredLabels'].str.contains(\"strike*|staking*\", case=False, regex=True)]\n",
    "test10"
   ]
  },
  {
   "cell_type": "code",
   "execution_count": null,
   "id": "ca869c3b-0de4-4941-8952-6d3738decd78",
   "metadata": {},
   "outputs": [],
   "source": [
    "# split column \"PreferredLabels\" to get each label in one row\n",
    "# Step 1: Split the column using \"Ω\" as the separator\n",
    "poolparty_df_v1[\"PreferredLabels\"] = poolparty_df_v1[\"PreferredLabels\"].str.split(\", \")\n",
    "\n",
    "# Step 2: Explode the list into multiple rows\n",
    "poolparty_df_v1 = poolparty_df_v1.explode(\"PreferredLabels\", ignore_index=True)\n"
   ]
  },
  {
   "cell_type": "code",
   "execution_count": null,
   "id": "19a21e12-8b76-4af6-a122-4c82c019ff2f",
   "metadata": {},
   "outputs": [],
   "source": [
    "poolparty_df_v1.info()"
   ]
  },
  {
   "cell_type": "code",
   "execution_count": null,
   "id": "ea97c395-558b-4540-9a3a-49baeb1aa8e2",
   "metadata": {},
   "outputs": [],
   "source": [
    "test11 = poolparty_df_v1[poolparty_df_v1['PreferredLabels'].str.contains(\"strike*|staking*\", case=False, regex=True)]\n",
    "test11"
   ]
  },
  {
   "cell_type": "code",
   "execution_count": null,
   "id": "247de915-376e-4dfd-8643-0cef3e2bfd89",
   "metadata": {},
   "outputs": [],
   "source": [
    "poolparty_df = poolparty_df_v1.reset_index(drop=True)"
   ]
  },
  {
   "cell_type": "code",
   "execution_count": null,
   "id": "9d489462-ce3f-4e8b-bd26-a39d56043c66",
   "metadata": {},
   "outputs": [],
   "source": [
    "poolparty_df.info(verbose=True)"
   ]
  },
  {
   "cell_type": "code",
   "execution_count": null,
   "id": "01867861-5479-4196-af9c-d0465e7bbe4e",
   "metadata": {},
   "outputs": [],
   "source": [
    "# # You may want to dowload the table above to an excel file for further inspection:\n",
    "# name_file = 'poolparty_concepts_per_label' # for thesaurus report\n",
    "\n",
    "# # field_subset_df.to_excel(f'{data_downloads}/{name_file}.xlsx')\n",
    "\n",
    "# ## or download to csv\n",
    "# poolparty_df.to_csv(f'{data_directory_subjects}/poolparty/{name_file}.csv', index=False) # if too big, use compression='gzip'"
   ]
  },
  {
   "cell_type": "code",
   "execution_count": null,
   "id": "bf54a219-8c5c-402d-9a57-07cd8561ab7b",
   "metadata": {},
   "outputs": [],
   "source": []
  },
  {
   "cell_type": "code",
   "execution_count": null,
   "id": "8c87cf0b-04ff-41ef-9919-b0c2f4341e1e",
   "metadata": {},
   "outputs": [],
   "source": []
  },
  {
   "cell_type": "code",
   "execution_count": null,
   "id": "3a70361c-12c2-4431-b430-422fbd07328e",
   "metadata": {},
   "outputs": [],
   "source": []
  },
  {
   "cell_type": "code",
   "execution_count": null,
   "id": "b77cea61-bf81-42b6-b1a9-2612f835c9c4",
   "metadata": {},
   "outputs": [],
   "source": []
  },
  {
   "cell_type": "code",
   "execution_count": null,
   "id": "96493d20-33e8-4e8e-a017-1db2505c6e27",
   "metadata": {},
   "outputs": [],
   "source": []
  },
  {
   "cell_type": "code",
   "execution_count": null,
   "id": "42cad928-78dc-4aca-8c16-ed684b7ea73f",
   "metadata": {},
   "outputs": [],
   "source": []
  },
  {
   "cell_type": "code",
   "execution_count": null,
   "id": "f350294a-b4bc-4867-b11b-ff3592c45297",
   "metadata": {},
   "outputs": [],
   "source": []
  },
  {
   "cell_type": "code",
   "execution_count": null,
   "id": "a6c572b6-7d46-47e2-a603-8f1e4db8f3ab",
   "metadata": {},
   "outputs": [],
   "source": []
  },
  {
   "cell_type": "code",
   "execution_count": null,
   "id": "ce58c6d8-cbb9-439e-a909-19be96b8be19",
   "metadata": {},
   "outputs": [],
   "source": []
  },
  {
   "cell_type": "code",
   "execution_count": null,
   "id": "6aa9335e-7c96-4c03-90f5-03d5d2786833",
   "metadata": {},
   "outputs": [],
   "source": []
  },
  {
   "cell_type": "code",
   "execution_count": null,
   "id": "e177dcce-6745-435f-ad71-ca98045b1ce5",
   "metadata": {},
   "outputs": [],
   "source": []
  },
  {
   "cell_type": "markdown",
   "id": "4e79c869-dfed-48d5-8e36-9e4c85723089",
   "metadata": {},
   "source": [
    "# MAPPINGS authority - Poolparty"
   ]
  },
  {
   "cell_type": "markdown",
   "id": "7dd8dd88-fa96-4398-bf42-c7d062a97b26",
   "metadata": {},
   "source": [
    "ListA = authorities_sub_df\n",
    "ListB = poolparty_df\n",
    "\n",
    "<!-- Authorities -->\n",
    "<!-- #   Column  Non-Null Count  Dtype \n",
    "---  ------  --------------  ----- \n",
    " 0   001     982 non-null    object\n",
    " 1   150     982 non-null    object\n",
    " 2   450     982 non-null    object\n",
    " 3   550     982 non-null    object\n",
    " 4   leader  982 non-null    object\n",
    " 5   150a    982 non-null    object -->\n",
    "\n",
    "\n",
    "<!-- Poolparty -->\n",
    "<!-- #   Column             Non-Null Count  Dtype \n",
    "---  ------             --------------  ----- \n",
    " 0   Concept            2213 non-null   object\n",
    " 1   PreferredLabels    2213 non-null   object\n",
    " 2   AlternativeLabels  2213 non-null   object\n",
    " 3   BroaderConcepts    2213 non-null   object\n",
    " 4   NarrowerConcepts   2213 non-null   object -->"
   ]
  },
  {
   "cell_type": "code",
   "execution_count": null,
   "id": "bde3ee38-9555-479b-9a6d-847cf9660af0",
   "metadata": {},
   "outputs": [],
   "source": [
    "# This python script detects the string similarity between two lists of concepts/terms.\n",
    "\n",
    "from tqdm import tqdm\n",
    "from time import sleep\n",
    "from fuzzywuzzy import fuzz\n",
    "\n",
    "\n",
    "def compare_strings(dfA, dfB):\n",
    "    '''Processes and maps candidate names\n",
    "    Inputs are two dataframes of names\n",
    "    Outputs a dataframe of candidates\n",
    "    '''\n",
    "\n",
    "    # # create an empty dataframe\n",
    "    # mapped_candidates_df = pd.DataFrame()\n",
    "    ##COLLECT ROWS\n",
    "    rows = []\n",
    "\n",
    "    ############################## CAPTURE VARIABLES FROM DFs #######################################\n",
    "    # for indexB, rowB in dfB.iterrows():\n",
    "    for indexB, rowB in tqdm(dfB.iterrows(), total=dfB.shape[0]):\n",
    "        # Capture basic standard columns for the mapping dataset B (to be mapped) as variables\n",
    "        idB = dfB.loc[indexB, 'Concept']\n",
    "        stringB = dfB.loc[indexB, 'PreferredLabels']\n",
    "        alternativeLabelsB = dfB.loc[indexB, 'AlternativeLabels']\n",
    "        broaderConceptsB = dfB.loc[indexB, 'BroaderConcepts']\n",
    "        narrowerConceptsB = dfB.loc[indexB, 'NarrowerConcepts']\n",
    "        sleep(0.01)\n",
    "        for indexA, rowA in dfA.iterrows():\n",
    "            # Capture basic standard columns for the mapping dataset A (to be mapped to) as variables\n",
    "            idA = dfA.loc[indexA, '001']\n",
    "            stringA = dfA.loc[indexA, '150a']\n",
    "            marc150 = dfA.loc[indexA, '150']\n",
    "            marc450 = dfA.loc[indexA, '450']\n",
    "            marc550 = dfA.loc[indexA, '550']        \n",
    "            leader = dfA.loc[indexA, 'leader']\n",
    "\n",
    "    ############################## SET STRING MATCHING SETTINGS #######################################\n",
    "\n",
    "            # Algorithm to be used\n",
    "            matchScore1 = fuzz.token_sort_ratio(stringA.lower(), stringB.lower())\n",
    "            # matchScore2 = fuzz.token_set_ratio(stringA, stringB)\n",
    "            # matchScore3 = fuzz.partial_ratio(nameStringA, nameStringB) # USE WITH casesNoisy (edit below) if names in both datasets are very similar. It compares parts of strings, low score is useful to avoid matches like this (('Carlieri Jacopo', 'Jacopo Battieri'))\n",
    "\n",
    "            # String score ranges\n",
    "            rangeScoreVeryLow = 80\n",
    "            rangeScoreLow = 85\n",
    "            rangeScoreMid = 90\n",
    "            rangeScoreHigh = 100\n",
    "\n",
    "\n",
    "    # ############################## RUN STRING MATCHING #######################################\n",
    "            # this rule only applies to cases of type A when the dates are exactly the same (e.g., to match 'Olivarius Vredius' with 'Olivier de Wree')\n",
    "            if rangeScoreVeryLow <= matchScore1 <= rangeScoreHigh:\n",
    "                scoreString = dfA.loc[indexA,'scoreString'] = matchScore1\n",
    "                scoreType = dfA.loc[indexA, 'scoreType'] = 'matchScore1'\n",
    "                match_StringB = dfA.loc[indexA,'match-stringB'] = stringB\n",
    "                match_idB = idB = dfA.loc[indexA,'match-idB'] = idB\n",
    "                rows.append({\n",
    "                    'scoreString': scoreString,\n",
    "                    'scoreType': scoreType,\n",
    "                    'idA':idA,                    \n",
    "                    'match_idB': match_idB,\n",
    "                    'stringA': stringA,                    \n",
    "                    'match_stringB': match_StringB,\n",
    "                    'marc150': marc150, \n",
    "                    'marc450': marc450, \n",
    "                    'marc550': marc550, \n",
    "                    'leader': leader,\n",
    "                    'alternativeLabelsB': alternativeLabelsB, \n",
    "                    'broaderConceptsB': broaderConceptsB, \n",
    "                    'narrowerConceptsB': narrowerConceptsB\n",
    "                })\n",
    "\n",
    "        df_mapped = pd.DataFrame(rows)\n",
    "\n",
    "    return df_mapped\n"
   ]
  },
  {
   "cell_type": "code",
   "execution_count": null,
   "id": "b04d3395-2941-4517-b25b-81d5f699ab61",
   "metadata": {},
   "outputs": [],
   "source": [
    "# dfA = authorities_sub_df\n",
    "# dfB = poolparty_df\n",
    "\n",
    "mapped_candidates = compare_strings(authorities_sub_df, poolparty_df)"
   ]
  },
  {
   "cell_type": "code",
   "execution_count": null,
   "id": "fe485639-7504-46be-a2a8-965adb58cd54",
   "metadata": {},
   "outputs": [],
   "source": [
    "mapped_candidates.head()"
   ]
  },
  {
   "cell_type": "code",
   "execution_count": null,
   "id": "cd7503a7-bef4-4117-82a4-a433b365912e",
   "metadata": {},
   "outputs": [],
   "source": [
    "mapped_candidates.info(verbose=True)"
   ]
  },
  {
   "cell_type": "code",
   "execution_count": null,
   "id": "8338b042-db5f-42df-9d38-1a0d6206256c",
   "metadata": {},
   "outputs": [],
   "source": [
    "test12 = mapped_candidates[mapped_candidates['StringA'].str.contains(\"strike*|staking*\", case=False, regex=True)]\n",
    "test12"
   ]
  },
  {
   "cell_type": "code",
   "execution_count": null,
   "id": "0a1a070d-188e-4b91-9bf4-a1b837900cb3",
   "metadata": {},
   "outputs": [],
   "source": []
  },
  {
   "cell_type": "code",
   "execution_count": null,
   "id": "6ddc016b-9ca8-428e-987b-cb469c4e10ef",
   "metadata": {},
   "outputs": [],
   "source": [
    "# NOT USED"
   ]
  },
  {
   "cell_type": "code",
   "execution_count": null,
   "id": "e2371b64-7d0d-4bb0-a68e-6476cf8d8a0c",
   "metadata": {},
   "outputs": [],
   "source": [
    "# # how many terms are in Biblio that have a correspondent Authority record?\n",
    "# biblio_subjectTerms_notnull = biblio_subjectTerms_df[biblio_subjectTerms_df['650'] == 'notnull']\n",
    "# question2 = biblio_subjectTerms_notnull[biblio_subjectTerms_notnull['\"0\"'].str.contains(\"NL-AMISG)\", case=True, regex=False)]\n",
    "# question2_total = question2.shape[0]\n",
    "# question2_total"
   ]
  },
  {
   "cell_type": "code",
   "execution_count": null,
   "id": "0ee10fb4-fe8a-496e-ab86-67ee2841d7c9",
   "metadata": {},
   "outputs": [],
   "source": [
    "# # how many terms are in Biblio that do not have a correspondent Authority record?\n",
    "# biblio_subjectTerms_a_notnull = biblio_subjectTerms_df[biblio_subjectTerms_df['\"a\"'] is not ]\n",
    "# question3 = biblio_subjectTerms_notnull[~biblio_subjectTerms_notnull['\"0\"'].str.contains(\"\", case=True, regex=False)]\n",
    "# question3_total = biblio_subjectTerms_null.shape[0]\n",
    "# question3_total"
   ]
  },
  {
   "cell_type": "code",
   "execution_count": null,
   "id": "eb8b5b9e-7241-424d-9eae-6d9981f8d440",
   "metadata": {},
   "outputs": [],
   "source": [
    "# questionTest = biblio_subjectTerms_df['\"0\"'].value_counts()\n",
    "# questionTest"
   ]
  },
  {
   "cell_type": "code",
   "execution_count": null,
   "id": "f62f5c5a-d8ed-4123-adda-d26624737327",
   "metadata": {},
   "outputs": [],
   "source": [
    "# query_test = subject_terms_df[\n",
    "#     subject_terms_df['\"a\"'].str.contains(\"collective\", case=False, regex=True) & \n",
    "#     subject_terms_df[\"another_column\"].str.contains(\"stringTest\", case=False, regex=True)\n",
    "# ]"
   ]
  },
  {
   "cell_type": "code",
   "execution_count": null,
   "id": "627ea1db-06ce-49b0-895d-ac9cc8c27743",
   "metadata": {},
   "outputs": [],
   "source": [
    "# subject_terms_df['\"x\"'].unique()\n",
    "# query_test = subject_terms_df[subject_terms_df['\"a\"'].str.contains(\"collective\", case=False, regex=True)] #\n",
    "# query_test\n",
    "# query_test['\"a\"'].unique()"
   ]
  },
  {
   "cell_type": "code",
   "execution_count": null,
   "id": "e5096614-5ef7-4ae1-bf14-09b5a7d1950b",
   "metadata": {},
   "outputs": [],
   "source": []
  },
  {
   "cell_type": "code",
   "execution_count": null,
   "id": "803259f6-2c68-44a7-8bf2-658787953702",
   "metadata": {},
   "outputs": [],
   "source": []
  }
 ],
 "metadata": {
  "kernelspec": {
   "display_name": "Python 3 (ipykernel)",
   "language": "python",
   "name": "python3"
  },
  "language_info": {
   "codemirror_mode": {
    "name": "ipython",
    "version": 3
   },
   "file_extension": ".py",
   "mimetype": "text/x-python",
   "name": "python",
   "nbconvert_exporter": "python",
   "pygments_lexer": "ipython3",
   "version": "3.11.7"
  }
 },
 "nbformat": 4,
 "nbformat_minor": 5
}
